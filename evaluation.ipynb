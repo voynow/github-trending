{
 "cells": [
  {
   "cell_type": "code",
   "execution_count": 1,
   "metadata": {},
   "outputs": [
    {
     "name": "stderr",
     "output_type": "stream",
     "text": [
      "c:\\Users\\voyno\\Desktop\\code\\repos\\repo-chat\\venv\\lib\\site-packages\\pinecone\\index.py:4: TqdmExperimentalWarning: Using `tqdm.autonotebook.tqdm` in notebook mode. Use `tqdm.tqdm` instead to force console mode (e.g. in jupyter console)\n",
      "  from tqdm.autonotebook import tqdm\n"
     ]
    }
   ],
   "source": [
    "import repo_chat.git2vectors as git2vectors\n",
    "from repo_chat.eval_utils import MultiQueryEvaluator"
   ]
  },
  {
   "cell_type": "code",
   "execution_count": 2,
   "metadata": {},
   "outputs": [
    {
     "name": "stdout",
     "output_type": "stream",
     "text": [
      "MultiQueryEvaluator initialized with the following configurations:\n",
      "Number of queries: 6\n",
      "Runs per query: 10\n",
      "Total evaluations: 60\n",
      "Parallelized by query using concurrent.futures.ProcessPoolExecutor\n"
     ]
    }
   ],
   "source": [
    "# run multiple queries n times each\n",
    "\n",
    "queries = [\n",
    "    \"Explain this to me like I'm 5.\",\n",
    "    \"What does this do?\",\n",
    "    \"What is the point of the .env file?\",\n",
    "    \"Can my junior dev create a website?\",\n",
    "    \"What is the high level workflow starting with main.py?\",\n",
    "    \"WHats the difference between code2prompt and code2prompt2code?\"\n",
    "\n",
    "]\n",
    "\n",
    "evaluator = MultiQueryEvaluator(\n",
    "    git2vectors.get_vectorstore, queries, runs_per_query=10\n",
    ")\n",
    "evaluator.evaluate()"
   ]
  },
  {
   "cell_type": "code",
   "execution_count": 9,
   "metadata": {},
   "outputs": [],
   "source": [
    "# extract data from evalutation run\n",
    "\n",
    "chainlogs_df, response_df = evaluator.flatten_responses()\n",
    "\n",
    "# export dfs to csv\n",
    "chainlogs_df.to_csv(\"data/eval_chainlogs.csv\", index=False)\n",
    "response_df.to_csv(\"data/eval_responses.csv\", index=False)"
   ]
  }
 ],
 "metadata": {
  "kernelspec": {
   "display_name": "venv",
   "language": "python",
   "name": "python3"
  },
  "language_info": {
   "codemirror_mode": {
    "name": "ipython",
    "version": 3
   },
   "file_extension": ".py",
   "mimetype": "text/x-python",
   "name": "python",
   "nbconvert_exporter": "python",
   "pygments_lexer": "ipython3",
   "version": "3.10.1"
  },
  "orig_nbformat": 4
 },
 "nbformat": 4,
 "nbformat_minor": 2
}
