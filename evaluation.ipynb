{
 "cells": [
  {
   "cell_type": "code",
   "execution_count": 1,
   "metadata": {},
   "outputs": [
    {
     "name": "stderr",
     "output_type": "stream",
     "text": [
      "c:\\Users\\voyno\\Desktop\\code\\repos\\repo-chat\\venv\\lib\\site-packages\\pinecone\\index.py:4: TqdmExperimentalWarning: Using `tqdm.autonotebook.tqdm` in notebook mode. Use `tqdm.tqdm` instead to force console mode (e.g. in jupyter console)\n",
      "  from tqdm.autonotebook import tqdm\n"
     ]
    }
   ],
   "source": [
    "import repo_chat.git2vectors as git2vectors\n",
    "from repo_chat.chat_utils import MultiQueryEvaluator"
   ]
  },
  {
   "cell_type": "code",
   "execution_count": 2,
   "metadata": {},
   "outputs": [
    {
     "name": "stdout",
     "output_type": "stream",
     "text": [
      "Queries vs Response Scores:\n"
     ]
    },
    {
     "ename": "AttributeError",
     "evalue": "'list' object has no attribute 'responses'",
     "output_type": "error",
     "traceback": [
      "\u001b[1;31m---------------------------------------------------------------------------\u001b[0m",
      "\u001b[1;31mAttributeError\u001b[0m                            Traceback (most recent call last)",
      "Cell \u001b[1;32mIn[2], line 20\u001b[0m\n\u001b[0;32m     17\u001b[0m responses \u001b[39m=\u001b[39m evaluator\u001b[39m.\u001b[39mevaluate()\n\u001b[0;32m     19\u001b[0m \u001b[39mprint\u001b[39m(\u001b[39m\"\u001b[39m\u001b[39mQueries vs Response Scores:\u001b[39m\u001b[39m\"\u001b[39m)\n\u001b[1;32m---> 20\u001b[0m evaluator\u001b[39m.\u001b[39;49mget_scores()\n",
      "File \u001b[1;32mc:\\Users\\voyno\\Desktop\\code\\repos\\repo-chat\\repo_chat\\chat_utils.py:217\u001b[0m, in \u001b[0;36mMultiQueryEvaluator.get_scores\u001b[1;34m(self)\u001b[0m\n\u001b[0;32m    215\u001b[0m scores \u001b[39m=\u001b[39m {}\n\u001b[0;32m    216\u001b[0m \u001b[39mfor\u001b[39;00m query, response \u001b[39min\u001b[39;00m \u001b[39mself\u001b[39m\u001b[39m.\u001b[39mresponses\u001b[39m.\u001b[39mitems():\n\u001b[1;32m--> 217\u001b[0m     scores[query] \u001b[39m=\u001b[39m [resp[\u001b[39m'\u001b[39m\u001b[39mscore\u001b[39m\u001b[39m'\u001b[39m] \u001b[39mfor\u001b[39;00m resp \u001b[39min\u001b[39;00m response\u001b[39m.\u001b[39;49mresponses]\n\u001b[0;32m    218\u001b[0m \u001b[39mreturn\u001b[39;00m scores\n",
      "\u001b[1;31mAttributeError\u001b[0m: 'list' object has no attribute 'responses'"
     ]
    }
   ],
   "source": [
    "# run multiple queries n times each\n",
    "\n",
    "queries = [\n",
    "    \"How does this code work?\",\n",
    "    \"Explain this to me like I'm 5.\",\n",
    "    \"What is this for?\",\n",
    "    \"What does this do?\",\n",
    "    \"How would a beginner understand this?\",\n",
    "    \"What is the point of the .env file?\",\n",
    "    \"How do I use smol to create a new project?\",\n",
    "    \"Can my junior dev create a website?\",\n",
    "\n",
    "]\n",
    "\n",
    "evaluator = MultiQueryEvaluator(\n",
    "    git2vectors.get_vectorstore, queries, runs_per_query=10)\n",
    "responses = evaluator.evaluate()\n",
    "\n",
    "print(\"Queries vs Response Scores:\")\n",
    "evaluator.get_scores()"
   ]
  },
  {
   "cell_type": "code",
   "execution_count": null,
   "metadata": {},
   "outputs": [],
   "source": []
  }
 ],
 "metadata": {
  "kernelspec": {
   "display_name": "venv",
   "language": "python",
   "name": "python3"
  },
  "language_info": {
   "codemirror_mode": {
    "name": "ipython",
    "version": 3
   },
   "file_extension": ".py",
   "mimetype": "text/x-python",
   "name": "python",
   "nbconvert_exporter": "python",
   "pygments_lexer": "ipython3",
   "version": "3.10.1"
  },
  "orig_nbformat": 4
 },
 "nbformat": 4,
 "nbformat_minor": 2
}
