{
 "cells": [
  {
   "cell_type": "code",
   "execution_count": 2,
   "metadata": {},
   "outputs": [],
   "source": [
    "import repo_chat.git2vectors as git2vectors\n",
    "from repo_chat.eval_utils import MultiQueryEvaluator"
   ]
  },
  {
   "cell_type": "code",
   "execution_count": 3,
   "metadata": {},
   "outputs": [
    {
     "name": "stdout",
     "output_type": "stream",
     "text": [
      "MultiQueryEvaluator initialized with the following configurations:\n",
      "Number of queries: 4\n",
      "Runs per query: 5\n",
      "Total evaluations: 20\n",
      "Parallelized by query using concurrent.futures.ProcessPoolExecutor\n",
      "Queries vs Response Scores:\n"
     ]
    },
    {
     "data": {
      "text/plain": [
       "{\"Explain this to me like I'm 5.\": ['85', '90', '80', '85', '85'],\n",
       " 'What does this do?': ['85', '85', '50', '70', '85'],\n",
       " 'What is the point of the .env file?': ['95', '100', '95', '95', '90'],\n",
       " 'Can my junior dev create a website?': ['85', '85', '90', '70', '70']}"
      ]
     },
     "execution_count": 3,
     "metadata": {},
     "output_type": "execute_result"
    }
   ],
   "source": [
    "# run multiple queries n times each\n",
    "\n",
    "queries = [\n",
    "    \"Explain this to me like I'm 5.\",\n",
    "    \"What does this do?\",\n",
    "    \"What is the point of the .env file?\",\n",
    "    \"Can my junior dev create a website?\",\n",
    "]\n",
    "\n",
    "evaluator = MultiQueryEvaluator(\n",
    "    git2vectors.get_vectorstore, queries, runs_per_query=5)\n",
    "responses = evaluator.evaluate()\n",
    "\n",
    "print(\"Queries vs Response Scores:\")\n",
    "evaluator.get_scores()"
   ]
  }
 ],
 "metadata": {
  "kernelspec": {
   "display_name": "venv",
   "language": "python",
   "name": "python3"
  },
  "language_info": {
   "codemirror_mode": {
    "name": "ipython",
    "version": 3
   },
   "file_extension": ".py",
   "mimetype": "text/x-python",
   "name": "python",
   "nbconvert_exporter": "python",
   "pygments_lexer": "ipython3",
   "version": "3.10.1"
  },
  "orig_nbformat": 4
 },
 "nbformat": 4,
 "nbformat_minor": 2
}
