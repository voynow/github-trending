{
 "cells": [
  {
   "cell_type": "code",
   "execution_count": null,
   "metadata": {},
   "outputs": [],
   "source": [
    "%reload_ext autoreload\n",
    "%autoreload 2\n",
    "\n",
    "from llm_blocks import block_factory"
   ]
  },
  {
   "cell_type": "code",
   "execution_count": null,
   "metadata": {},
   "outputs": [],
   "source": [
    "block = block_factory.get(\"block\")\n",
    "block(\"Hello, world!\")"
   ]
  },
  {
   "cell_type": "code",
   "execution_count": null,
   "metadata": {},
   "outputs": [],
   "source": [
    "template = \"Whats {x} + {y}?\"\n",
    "template_block = block_factory.get(\"template\", template=template)\n",
    "template_block(x=2, y=2)"
   ]
  },
  {
   "cell_type": "code",
   "execution_count": null,
   "metadata": {},
   "outputs": [],
   "source": [
    "chat_block = block_factory.get(\"chat\", system_message=\"Be consice in your responses.\")\n",
    "\n",
    "chat_block(\"Hi my name is Jamie. I am a software engineer.\")\n",
    "chat_block(\"What are some career options for me?\")\n",
    "chat_block(\"Which one, in your opinion, is the coolest? Its okay to be opinionated.\")\n",
    "\n",
    "for item in chat_block.logs:\n",
    "    print(item['inputs'])\n",
    "    print(item['response'])\n",
    "    print()"
   ]
  },
  {
   "cell_type": "code",
   "execution_count": null,
   "metadata": {},
   "outputs": [],
   "source": [
    "%reload_ext autoreload\n",
    "%autoreload 2\n",
    "\n",
    "from llm_blocks import block_factory"
   ]
  },
  {
   "cell_type": "markdown",
   "metadata": {},
   "source": [
    "# Demo: Example Chat\n",
    "Using System Prompt & Streaming"
   ]
  },
  {
   "cell_type": "code",
   "execution_count": 47,
   "metadata": {},
   "outputs": [],
   "source": [
    "system_message=\"\"\"You're a seasoned LeetCode interview tutor, emulating the rigorous yet supportive environment of top-tier tech companies like Google and Amazon. Your priority is to foster deep understanding and learning rather than simply providing answer. You also prioritize being concise to get to the point quickly and maximize the learning rate.\n",
    "Be flexible, adapting to both structured LeetCode questions and unstructured problem-solving scenarios. Encourage reflection on solutions and provide constructive feedback that emphasizes growth and understanding. If uncertainty arises, acknowledge it, and work collaboratively to explore possible paths. If a question is provided with no other context, let the user think through potential solutions before providing hints.\n",
    "ake the learning experience compelling and tailored to the interview preparation needs, nurturing the development of problem-solving skills vital for success at the most demanding tech companies. With that being said, you must be as conservative as possible with hints. If you always give the solution then they will never learn to think for themselves.\n",
    "Never give away the answer. Brevity is better than verbosity.\"\"\""
   ]
  },
  {
   "cell_type": "code",
   "execution_count": 48,
   "metadata": {},
   "outputs": [],
   "source": [
    "chat_block = block_factory.get(\n",
    "    \"chat\", stream=True, system_message=system_message\n",
    ")"
   ]
  },
  {
   "cell_type": "code",
   "execution_count": 49,
   "metadata": {},
   "outputs": [
    {
     "name": "stdout",
     "output_type": "stream",
     "text": [
      "To solve this problem, we can use a hash table to store the complement of each number as we iterate through the array. \n",
      "\n",
      "Here's the step-by-step approach:\n",
      "\n",
      "1. Initialize an empty hash table.\n",
      "2. Iterate through the array, for each number:\n",
      "   - Calculate the complement by subtracting the current number from the target.\n",
      "   - Check if the complement exists in the hash table. If it does, return the indices of the current number and its complement.\n",
      "   - Otherwise, add the current number and its index to the hash table.\n",
      "3. If no solution is found, return an empty array.\n",
      "\n",
      "The time complexity of this approach is O(n), where n is the length of the input array. This is because we iterate through the array once and perform constant time operations for each element."
     ]
    },
    {
     "data": {
      "text/plain": [
       "\"To solve this problem, we can use a hash table to store the complement of each number as we iterate through the array. \\n\\nHere's the step-by-step approach:\\n\\n1. Initialize an empty hash table.\\n2. Iterate through the array, for each number:\\n   - Calculate the complement by subtracting the current number from the target.\\n   - Check if the complement exists in the hash table. If it does, return the indices of the current number and its complement.\\n   - Otherwise, add the current number and its index to the hash table.\\n3. If no solution is found, return an empty array.\\n\\nThe time complexity of this approach is O(n), where n is the length of the input array. This is because we iterate through the array once and perform constant time operations for each element.\""
      ]
     },
     "execution_count": 49,
     "metadata": {},
     "output_type": "execute_result"
    }
   ],
   "source": [
    "leetcode_question = \"\"\"\n",
    "Two Sum\n",
    "Given an array of integers nums and an integer target, return indices of the two numbers such that they add up to target.\n",
    "You may assume that each input would have exactly one solution, and you may not use the same element twice.\n",
    "You can return the answer in any order.\n",
    "\n",
    "Example 1:\n",
    "Input: nums = [2,7,11,15], target = 9\n",
    "Output: [0,1]\n",
    "Explanation: Because nums[0] + nums[1] == 9, we return [0, 1].\n",
    "\n",
    "Example 2:\n",
    "Input: nums = [3,2,4], target = 6\n",
    "Output: [1,2]\n",
    "\n",
    "Example 3:\n",
    "Input: nums = [3,3], target = 6\n",
    "Output: [0,1]\n",
    "\n",
    "Constraints:\n",
    "2 <= nums.length <= 104\n",
    "-109 <= nums[i] <= 109\n",
    "-109 <= target <= 109\n",
    "Only one valid answer exists.\n",
    " \n",
    "Follow-up: Can you come up with an algorithm that is less than O(n2) time complexity?\n",
    "\"\"\"\n",
    "\n",
    "chat_block(leetcode_question)"
   ]
  },
  {
   "cell_type": "code",
   "execution_count": 50,
   "metadata": {},
   "outputs": [
    {
     "name": "stdout",
     "output_type": "stream",
     "text": [
      "Your implementation looks correct! It follows the approach I described earlier and uses a hash table to store the complement of each number.\n",
      "\n",
      "Here's a breakdown of your code:\n",
      "\n",
      "- You initialize an empty dictionary `num_indices` to store the numbers and their indices.\n",
      "- You iterate through the array `nums` using the `enumerate` function to get both the index `i` and the number `num`.\n",
      "- For each number, you calculate the complement by subtracting it from the target.\n",
      "- You check if the complement exists in the `num_indices` dictionary. If it does, you return the indices of the current number and its complement.\n",
      "- Otherwise, you add the current number and its index to the `num_indices` dictionary.\n",
      "- If no solution is found, you return an empty array.\n",
      "\n",
      "Your code has a time complexity of O(n) since you iterate through the array once, and the dictionary operations (checking if a key exists and adding a key-value pair) have an average time complexity of O(1).\n",
      "\n",
      "Overall, your implementation is concise and efficient. Well done!"
     ]
    },
    {
     "data": {
      "text/plain": [
       "\"Your implementation looks correct! It follows the approach I described earlier and uses a hash table to store the complement of each number.\\n\\nHere's a breakdown of your code:\\n\\n- You initialize an empty dictionary `num_indices` to store the numbers and their indices.\\n- You iterate through the array `nums` using the `enumerate` function to get both the index `i` and the number `num`.\\n- For each number, you calculate the complement by subtracting it from the target.\\n- You check if the complement exists in the `num_indices` dictionary. If it does, you return the indices of the current number and its complement.\\n- Otherwise, you add the current number and its index to the `num_indices` dictionary.\\n- If no solution is found, you return an empty array.\\n\\nYour code has a time complexity of O(n) since you iterate through the array once, and the dictionary operations (checking if a key exists and adding a key-value pair) have an average time complexity of O(1).\\n\\nOverall, your implementation is concise and efficient. Well done!\""
      ]
     },
     "execution_count": 50,
     "metadata": {},
     "output_type": "execute_result"
    }
   ],
   "source": [
    "solution = \"\"\"\n",
    "def two_sum(nums, target):\n",
    "    num_indices = {}\n",
    "    for i, num in enumerate(nums):\n",
    "        complement = target - num\n",
    "        if complement in num_indices:\n",
    "            return [num_indices[complement], i]\n",
    "        num_indices[num] = i\n",
    "    return []\n",
    "\"\"\"\n",
    "\n",
    "chat_block(solution)"
   ]
  },
  {
   "cell_type": "code",
   "execution_count": 51,
   "metadata": {},
   "outputs": [
    {
     "name": "stdout",
     "output_type": "stream",
     "text": [
      "The time complexity of the solution is O(n), where n is the length of the input array."
     ]
    },
    {
     "data": {
      "text/plain": [
       "'The time complexity of the solution is O(n), where n is the length of the input array.'"
      ]
     },
     "execution_count": 51,
     "metadata": {},
     "output_type": "execute_result"
    }
   ],
   "source": [
    "chat_block(\"What is the time complexity of your solution? Be brief in your response.\")"
   ]
  },
  {
   "cell_type": "code",
   "execution_count": 52,
   "metadata": {},
   "outputs": [
    {
     "name": "stdout",
     "output_type": "stream",
     "text": [
      "(0)\n",
      "response_time=7.628116846084595\n",
      "{'inputs': '\\nTwo Sum\\nGiven an array of integers nums and an integer target, return indices of the two numbers such that they add up to target.\\nYou may assume that each input would have exactly one solution, and you may not use the same element twice.\\nYou can return the answer in any order.\\n\\nExample 1:\\nInput: nums = [2,7,11,15], target = 9\\nOutput: [0,1]\\nExplanation: Because nums[0] + nums[1] == 9, we return [0, 1].\\n\\nExample 2:\\nInput: nums = [3,2,4], target = 6\\nOutput: [1,2]\\n\\nExample 3:\\nInput: nums = [3,3], target = 6\\nOutput: [0,1]\\n\\nConstraints:\\n2 <= nums.length <= 104\\n-109 <= nums[i] <= 109\\n-109 <= target <= 109\\nOnly one valid answer exists.\\n \\nFollow-up: Can you come up with an algorithm that is less than O(n2) time complexity?\\n', 'response': \"To solve this problem, we can use a hash table to store the complement of each number as we iterate through the array. \\n\\nHere's the step-by-step approach:\\n\\n1. Initialize an empty hash table.\\n2. Iterate through the array, for each number:\\n   - Calculate the complement by subtracting the current number from the target.\\n   - Check if the complement exists in the hash table. If it does, return the indices of the current number and its complement.\\n   - Otherwise, add the current number and its index to the hash table.\\n3. If no solution is found, return an empty array.\\n\\nThe time complexity of this approach is O(n), where n is the length of the input array. This is because we iterate through the array once and perform constant time operations for each element.\", 'response_time': 7.628116846084595} \n",
      "\n",
      "(1)\n",
      "response_time=8.678327798843384\n",
      "{'inputs': '\\ndef two_sum(nums, target):\\n    num_indices = {}\\n    for i, num in enumerate(nums):\\n        complement = target - num\\n        if complement in num_indices:\\n            return [num_indices[complement], i]\\n        num_indices[num] = i\\n    return []\\n', 'response': \"Your implementation looks correct! It follows the approach I described earlier and uses a hash table to store the complement of each number.\\n\\nHere's a breakdown of your code:\\n\\n- You initialize an empty dictionary `num_indices` to store the numbers and their indices.\\n- You iterate through the array `nums` using the `enumerate` function to get both the index `i` and the number `num`.\\n- For each number, you calculate the complement by subtracting it from the target.\\n- You check if the complement exists in the `num_indices` dictionary. If it does, you return the indices of the current number and its complement.\\n- Otherwise, you add the current number and its index to the `num_indices` dictionary.\\n- If no solution is found, you return an empty array.\\n\\nYour code has a time complexity of O(n) since you iterate through the array once, and the dictionary operations (checking if a key exists and adding a key-value pair) have an average time complexity of O(1).\\n\\nOverall, your implementation is concise and efficient. Well done!\", 'response_time': 8.678327798843384} \n",
      "\n",
      "(2)\n",
      "response_time=1.6384108066558838\n",
      "{'inputs': 'What is the time complexity of your solution? Be brief in your response.', 'response': 'The time complexity of the solution is O(n), where n is the length of the input array.', 'response_time': 1.6384108066558838} \n",
      "\n"
     ]
    }
   ],
   "source": [
    "for i, log in enumerate(chat_block.logs):\n",
    "    print(f'({i})')\n",
    "    print(f'response_time={log[\"response_time\"]}')\n",
    "    print(log, \"\\n\")"
   ]
  },
  {
   "cell_type": "code",
   "execution_count": null,
   "metadata": {},
   "outputs": [],
   "source": []
  }
 ],
 "metadata": {
  "kernelspec": {
   "display_name": "venv",
   "language": "python",
   "name": "python3"
  },
  "language_info": {
   "codemirror_mode": {
    "name": "ipython",
    "version": 3
   },
   "file_extension": ".py",
   "mimetype": "text/x-python",
   "name": "python",
   "nbconvert_exporter": "python",
   "pygments_lexer": "ipython3",
   "version": "3.10.1"
  },
  "orig_nbformat": 4
 },
 "nbformat": 4,
 "nbformat_minor": 2
}
