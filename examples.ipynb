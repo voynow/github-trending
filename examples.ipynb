{
 "cells": [
  {
   "cell_type": "code",
   "execution_count": 2,
   "metadata": {},
   "outputs": [],
   "source": [
    "%reload_ext autoreload\n",
    "%autoreload 2\n",
    "\n",
    "from llm_blocks import block_factory"
   ]
  },
  {
   "cell_type": "code",
   "execution_count": 7,
   "metadata": {},
   "outputs": [
    {
     "data": {
      "text/plain": [
       "'Hello! How can I assist you today?'"
      ]
     },
     "execution_count": 7,
     "metadata": {},
     "output_type": "execute_result"
    }
   ],
   "source": [
    "block = block_factory.get(\"block\")\n",
    "block(\"Hello, world!\")"
   ]
  },
  {
   "cell_type": "code",
   "execution_count": 10,
   "metadata": {},
   "outputs": [
    {
     "data": {
      "text/plain": [
       "'2 + 2 equals 4.'"
      ]
     },
     "execution_count": 10,
     "metadata": {},
     "output_type": "execute_result"
    }
   ],
   "source": [
    "template = \"Whats {x} + {y}?\"\n",
    "template_block = block_factory.get(\"template\", template=template)\n",
    "template_block(x=2, y=2)"
   ]
  },
  {
   "cell_type": "code",
   "execution_count": 15,
   "metadata": {},
   "outputs": [
    {
     "name": "stdout",
     "output_type": "stream",
     "text": [
      "Hi my name is Jamie. I am a software engineer.\n",
      "Nice to meet you, Jamie. How can I assist you today?\n",
      "\n",
      "What are some career options for me?\n",
      "As a software engineer, you have various career options such as software developer, systems analyst, data scientist, cybersecurity analyst, and technical project manager, among others. It depends on your interests and specialization within software engineering.\n",
      "\n",
      "Which one, in your opinion, is the coolest? Its okay to be opinionated.\n",
      "As an AI language model, I don't have personal opinions or preferences. However, many people find roles like artificial intelligence/machine learning engineer or game developer to be particularly exciting within the field of software engineering. Ultimately, the \"coolest\" career option would depend on your personal interests and what you find most fascinating.\n",
      "\n"
     ]
    }
   ],
   "source": [
    "chat_block = block_factory.get(\"chat\", system_message=\"Be consice in your responses.\")\n",
    "\n",
    "chat_block(\"Hi my name is Jamie. I am a software engineer.\")\n",
    "chat_block(\"What are some career options for me?\")\n",
    "chat_block(\"Which one, in your opinion, is the coolest? Its okay to be opinionated.\")\n",
    "\n",
    "for item in chat_block.logs:\n",
    "    print(item['inputs'])\n",
    "    print(item['response'])\n",
    "    print()"
   ]
  }
 ],
 "metadata": {
  "kernelspec": {
   "display_name": "venv",
   "language": "python",
   "name": "python3"
  },
  "language_info": {
   "codemirror_mode": {
    "name": "ipython",
    "version": 3
   },
   "file_extension": ".py",
   "mimetype": "text/x-python",
   "name": "python",
   "nbconvert_exporter": "python",
   "pygments_lexer": "ipython3",
   "version": "3.10.1"
  },
  "orig_nbformat": 4
 },
 "nbformat": 4,
 "nbformat_minor": 2
}
