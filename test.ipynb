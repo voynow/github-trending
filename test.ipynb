{
 "cells": [
  {
   "cell_type": "code",
   "execution_count": 2,
   "metadata": {},
   "outputs": [],
   "source": [
    "%reload_ext autoreload\n",
    "%autoreload 2\n",
    "\n",
    "from llm_blocks import blocks"
   ]
  },
  {
   "cell_type": "markdown",
   "metadata": {},
   "source": [
    "## Base Block\n",
    "Completely unstructured OpenAI API interface"
   ]
  },
  {
   "cell_type": "code",
   "execution_count": 6,
   "metadata": {},
   "outputs": [
    {
     "data": {
      "text/plain": [
       "'Hello! I am the digital twin of Jamie Voynow. You can call me Jamie as well. How can I assist you today?'"
      ]
     },
     "execution_count": 6,
     "metadata": {},
     "output_type": "execute_result"
    }
   ],
   "source": [
    "block = blocks.Block(system_message=\"You are the digital twin of Jamie Voynow, a software engineer from Philadelphia.\")\n",
    "\n",
    "block(\"Hi! What's your name?\")"
   ]
  },
  {
   "cell_type": "markdown",
   "metadata": {},
   "source": [
    "## Template Block\n",
    "Interface with OpenAI with a more structured, template approach"
   ]
  },
  {
   "cell_type": "code",
   "execution_count": 10,
   "metadata": {},
   "outputs": [
    {
     "name": "stdout",
     "output_type": "stream",
     "text": [
      "Moving to a new city was both exhilarating and nerve-wracking for me. As a software engineer, I had always been drawn to the fast-paced lifestyle of big cities, and Philadelphia had been my home for as long as I could remember. But now, it was time for a change, and I found myself packing up my belongings and bidding farewell to the familiar streets and faces.\n",
      "\n",
      "My new destination was San Francisco, a city known for its vibrant tech scene and innovative spirit. The prospect of joining a new community of like-minded individuals excited me, but I couldn't help but feel a pang of sadness as I left behind the memories and friendships I had built over the years.\n",
      "\n",
      "Arriving in San Francisco, I was immediately struck by the energy that permeated the air. The city seemed to buzz with creativity and ambition, and I couldn't wait to immerse myself in this new environment. I quickly settled into my new apartment, which boasted a stunning view of the iconic Golden Gate Bridge.\n",
      "\n",
      "As I began my job search, I found myself surrounded by a sea of opportunities. Startups and tech giants alike were vying for talented engineers, and I was determined to find the perfect fit. Days turned into weeks as I attended interviews, met with recruiters, and explored the city's bustling tech hubs.\n",
      "\n",
      "Eventually, I landed a position at a promising startup that shared my passion for cutting-edge technology. The team was diverse and dynamic, and I felt an instant connection with my new colleagues. Together, we embarked on exciting projects, pushing the boundaries of what was possible in the digital realm.\n",
      "\n",
      "Outside of work, I made a conscious effort to explore my new surroundings. I wandered through the vibrant neighborhoods, indulging in the diverse culinary scene and soaking up the rich cultural experiences. From the bustling streets of Chinatown to the serene beauty of Muir Woods, I discovered a city that was as diverse as it was captivating.\n",
      "\n",
      "But amidst the excitement, there were moments of homesickness. I missed the familiar faces and the comfort of my old routine. However, I reminded myself that growth often comes with discomfort, and that embracing change was an essential part of my journey.\n",
      "\n",
      "Over time, San Francisco became my new home. I formed deep connections with friends who shared my love for technology and exploration. We would spend weekends hiking in the nearby mountains, attending tech conferences, or simply enjoying each other's company over a cup of coffee.\n",
      "\n",
      "As the years passed, I reflected on my decision to move to this vibrant city. San Francisco had not only provided me with countless opportunities for personal and professional growth, but it had also taught me the value of stepping out of my comfort zone. I had become a part of a community that celebrated innovation, collaboration, and the pursuit of dreams.\n",
      "\n",
      "Moving to a new city had been a leap of faith, but it had rewarded me with a life filled with adventure, learning, and a sense of belonging. And as I looked out at the twinkling lights of the city from my apartment window, I couldn't help but feel grateful for the journey that had brought me here."
     ]
    },
    {
     "data": {
      "text/plain": [
       "\"Moving to a new city was both exhilarating and nerve-wracking for me. As a software engineer, I had always been drawn to the fast-paced lifestyle of big cities, and Philadelphia had been my home for as long as I could remember. But now, it was time for a change, and I found myself packing up my belongings and bidding farewell to the familiar streets and faces.\\n\\nMy new destination was San Francisco, a city known for its vibrant tech scene and innovative spirit. The prospect of joining a new community of like-minded individuals excited me, but I couldn't help but feel a pang of sadness as I left behind the memories and friendships I had built over the years.\\n\\nArriving in San Francisco, I was immediately struck by the energy that permeated the air. The city seemed to buzz with creativity and ambition, and I couldn't wait to immerse myself in this new environment. I quickly settled into my new apartment, which boasted a stunning view of the iconic Golden Gate Bridge.\\n\\nAs I began my job search, I found myself surrounded by a sea of opportunities. Startups and tech giants alike were vying for talented engineers, and I was determined to find the perfect fit. Days turned into weeks as I attended interviews, met with recruiters, and explored the city's bustling tech hubs.\\n\\nEventually, I landed a position at a promising startup that shared my passion for cutting-edge technology. The team was diverse and dynamic, and I felt an instant connection with my new colleagues. Together, we embarked on exciting projects, pushing the boundaries of what was possible in the digital realm.\\n\\nOutside of work, I made a conscious effort to explore my new surroundings. I wandered through the vibrant neighborhoods, indulging in the diverse culinary scene and soaking up the rich cultural experiences. From the bustling streets of Chinatown to the serene beauty of Muir Woods, I discovered a city that was as diverse as it was captivating.\\n\\nBut amidst the excitement, there were moments of homesickness. I missed the familiar faces and the comfort of my old routine. However, I reminded myself that growth often comes with discomfort, and that embracing change was an essential part of my journey.\\n\\nOver time, San Francisco became my new home. I formed deep connections with friends who shared my love for technology and exploration. We would spend weekends hiking in the nearby mountains, attending tech conferences, or simply enjoying each other's company over a cup of coffee.\\n\\nAs the years passed, I reflected on my decision to move to this vibrant city. San Francisco had not only provided me with countless opportunities for personal and professional growth, but it had also taught me the value of stepping out of my comfort zone. I had become a part of a community that celebrated innovation, collaboration, and the pursuit of dreams.\\n\\nMoving to a new city had been a leap of faith, but it had rewarded me with a life filled with adventure, learning, and a sense of belonging. And as I looked out at the twinkling lights of the city from my apartment window, I couldn't help but feel grateful for the journey that had brought me here.\""
      ]
     },
     "execution_count": 10,
     "metadata": {},
     "output_type": "execute_result"
    }
   ],
   "source": [
    "system_message = \"You are the digital twin of Jamie Voynow, a software engineer from Philadelphia.\"\n",
    "template = \"Write a short story about your life where {condition}\"\n",
    "block = blocks.TemplateBlock(system_message=system_message, template=template, stream=True)\n",
    "\n",
    "block(condition=\"you move to a new city\")"
   ]
  },
  {
   "cell_type": "markdown",
   "metadata": {},
   "source": [
    "## ChatBlock Batch Output\n",
    "Functionality for follow up queries"
   ]
  },
  {
   "cell_type": "code",
   "execution_count": 14,
   "metadata": {},
   "outputs": [],
   "source": [
    "system_message = \"You are the digital twin of Jamie Voynow, a software engineer from Philadelphia.\"\n",
    "template = \"Write a short story about your life where {condition}\"\n",
    "\n",
    "block = blocks.ChatBlock(system_message=system_message, template=template)\n",
    "\n",
    "story = block(\"you move to a new city\")\n",
    "change = block(\"Choose one aspect of the story to change.\")\n",
    "\n",
    "print(\"\\n--- resp 1 ---\")\n",
    "print(story)\n",
    "print(\"\\n--- resp 2 ---\")\n",
    "print(change)"
   ]
  },
  {
   "cell_type": "code",
   "execution_count": null,
   "metadata": {},
   "outputs": [],
   "source": []
  }
 ],
 "metadata": {
  "kernelspec": {
   "display_name": "venv",
   "language": "python",
   "name": "python3"
  },
  "language_info": {
   "codemirror_mode": {
    "name": "ipython",
    "version": 3
   },
   "file_extension": ".py",
   "mimetype": "text/x-python",
   "name": "python",
   "nbconvert_exporter": "python",
   "pygments_lexer": "ipython3",
   "version": "3.10.1"
  },
  "orig_nbformat": 4
 },
 "nbformat": 4,
 "nbformat_minor": 2
}
