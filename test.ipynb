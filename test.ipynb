{
 "cells": [
  {
   "cell_type": "code",
   "execution_count": 3,
   "metadata": {},
   "outputs": [],
   "source": [
    "from llm_blocks import chat_utils"
   ]
  },
  {
   "cell_type": "code",
   "execution_count": 2,
   "metadata": {},
   "outputs": [
    {
     "name": "stdout",
     "output_type": "stream",
     "text": [
      "Problem Description:\n",
      "The Two Sum problem on LeetCode is a common coding interview question. The problem is described as follows:\n",
      "\n",
      "Given an array of integers nums and an integer target, return indices of the two numbers such that they add up to target. You may assume that each input would have exactly one solution, and you may not use the same element twice. You can return the answer in any order.\n",
      "\n",
      "Constraints:\n",
      "- The number of elements in the array is between 2 and 10^4.\n",
      "- The integers in the array are between -10^9 and 10^9.\n",
      "- The target value is also an integer between -10^9 and 10^9.\n",
      "- There is exactly one solution for each input.\n",
      "\n",
      "Examples:\n",
      "Example 1:\n",
      "Input: nums = [2,7,11,15], target = 9\n",
      "Output: [0,1]\n",
      "Explanation: Because nums[0] + nums[1] == 9, we return [0, 1].\n",
      "\n",
      "Example 2:\n",
      "Input: nums = [3,2,4], target = 6\n",
      "Output: [1,2]\n",
      "\n",
      "Example 3:\n",
      "Input: nums = [3,3], target = 6\n",
      "Output: [0,1]\n",
      "\n",
      "High-Level Steps:\n",
      "1. Initialize a dictionary/hashmap to store the numbers in the array and their indices.\n",
      "2. Iterate over the array. For each number, calculate the complement (target - number).\n",
      "3. Check if the complement exists in the dictionary. If it does, return the current index and the index of the complement.\n",
      "4. If the complement does not exist in the dictionary, add the current number and its index to the dictionary.\n",
      "5. Continue until the end of the array.\n",
      "\n",
      "Python Code:\n",
      "```python\n",
      "def twoSum(nums, target):\n",
      "    num_dict = {}\n",
      "    for i, num in enumerate(nums):\n",
      "        complement = target - num\n",
      "        if complement in num_dict:\n",
      "            return [num_dict[complement], i]\n",
      "        num_dict[num] = i\n",
      "```\n",
      "\n",
      "Summary:\n",
      "The Two Sum problem is a common coding interview question that asks for finding two numbers in an array that add up to a specific target number. The solution involves using a dictionary to store the numbers and their indices, and then checking for each number if its complement (target - number) exists in the dictionary. If the complement exists, we return the indices of the number and its complement. If it does not exist, we add the number and its index to the dictionary. This solution has a time complexity of O(n), where n is the number of elements in the array."
     ]
    }
   ],
   "source": [
    "template = \"\"\"\n",
    "Do you know about the LeetCode problem {LeetCodeProblemName}? If you do, can you explain it to me?\n",
    "Detail the problem description, constraints, and examples.\n",
    "Outline the steps you would take to solve the problem on a high level.\n",
    "Write the code for the solution.\n",
    "Add a summary of the problem and solution.\n",
    "\"\"\"\n",
    "\n",
    "test_chain = chat_utils.GenericChain(template=template, stream=True, model_name=\"gpt-4\")\n",
    "response_generator = test_chain(\"Two Sum\")\n",
    "chat_utils.stream_to_console(response_generator)"
   ]
  }
 ],
 "metadata": {
  "kernelspec": {
   "display_name": "venv",
   "language": "python",
   "name": "python3"
  },
  "language_info": {
   "codemirror_mode": {
    "name": "ipython",
    "version": 3
   },
   "file_extension": ".py",
   "mimetype": "text/x-python",
   "name": "python",
   "nbconvert_exporter": "python",
   "pygments_lexer": "ipython3",
   "version": "3.10.1"
  },
  "orig_nbformat": 4
 },
 "nbformat": 4,
 "nbformat_minor": 2
}
