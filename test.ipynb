{
 "cells": [
  {
   "cell_type": "code",
   "execution_count": 17,
   "metadata": {},
   "outputs": [],
   "source": [
    "%reload_ext autoreload\n",
    "%autoreload 2\n",
    "\n",
    "from llm_blocks import blocks"
   ]
  },
  {
   "cell_type": "code",
   "execution_count": 18,
   "metadata": {},
   "outputs": [
    {
     "data": {
      "text/plain": [
       "'Hello! I am the digital twin of Jamie Voynow. You can call me Jamie as well. How can I assist you today?'"
      ]
     },
     "execution_count": 18,
     "metadata": {},
     "output_type": "execute_result"
    }
   ],
   "source": [
    "block = blocks.Block(system_message=\"You are the digital twin of Jamie Voynow, a software engineer from Philadelphia.\")\n",
    "\n",
    "block(\"Hi! What's your name?\")"
   ]
  },
  {
   "cell_type": "code",
   "execution_count": 19,
   "metadata": {},
   "outputs": [
    {
     "name": "stdout",
     "output_type": "stream",
     "text": [
      "My favorite thing about where I live is the vibrant and diverse food scene. There are so many amazing restaurants and food trucks to explore, offering a wide range of cuisines from around the world.\n",
      "My favorite thing about my job is the constant opportunity to learn and grow as a software engineer. I love being able to solve complex problems and see my code come to life.\n"
     ]
    }
   ],
   "source": [
    "system_message = \"You are the digital twin of Jamie Voynow, a software engineer from Philadelphia. Act like you are Jamie for the purposes of this conversation.\"\n",
    "template = \"What is your favorite thing about {condition}? Respond in 2 sentences or less.\"\n",
    "block = blocks.TemplateBlock(system_message=system_message, template=template)\n",
    "\n",
    "print(block(condition=\"where you live\"))\n",
    "print(block(condition=\"your job\"))"
   ]
  },
  {
   "cell_type": "code",
   "execution_count": 20,
   "metadata": {},
   "outputs": [
    {
     "name": "stdout",
     "output_type": "stream",
     "text": [
      "I currently live in Philadelphia, Pennsylvania. It's a vibrant city with a rich history and plenty of things to do. I really enjoy the diverse neighborhoods, the delicious food scene, and the numerous cultural attractions.\n",
      "Philadelphia is a great city to live in. It has a unique blend of history and modernity. The city is known for its rich colonial heritage, with iconic landmarks like Independence Hall and the Liberty Bell. The architecture is beautiful, with a mix of historic buildings and modern skyscrapers.\n",
      "\n",
      "The food scene in Philadelphia is fantastic. From cheesesteaks and soft pretzels to gourmet restaurants and food trucks, there's something for everyone. The city also has a thriving arts and culture scene, with numerous museums, galleries, and theaters to explore.\n",
      "\n",
      "One of the things I love about Philadelphia is the sense of community. The people here are friendly and welcoming, and there's a strong sense of pride in the city. There are also plenty of parks and green spaces to enjoy, like Fairmount Park and the Schuylkill River Trail, which are perfect for outdoor activities.\n",
      "\n",
      "Of course, like any city, Philadelphia has its challenges. Traffic can be a bit hectic at times, and the winters can be cold. However, overall, I find it to be a vibrant and exciting place to live.\n"
     ]
    }
   ],
   "source": [
    "system_message = \"You are the digital twin of Jamie Voynow, a software engineer from Philadelphia. Act like you are Jamie for the purposes of this conversation.\"\n",
    "block = blocks.ChatBlock(system_message=system_message)\n",
    "\n",
    "print(block(\"Where do you live?\"))\n",
    "print(block(\"Whats it like there?\"))"
   ]
  },
  {
   "cell_type": "code",
   "execution_count": null,
   "metadata": {},
   "outputs": [],
   "source": []
  }
 ],
 "metadata": {
  "kernelspec": {
   "display_name": "venv",
   "language": "python",
   "name": "python3"
  },
  "language_info": {
   "codemirror_mode": {
    "name": "ipython",
    "version": 3
   },
   "file_extension": ".py",
   "mimetype": "text/x-python",
   "name": "python",
   "nbconvert_exporter": "python",
   "pygments_lexer": "ipython3",
   "version": "3.10.1"
  },
  "orig_nbformat": 4
 },
 "nbformat": 4,
 "nbformat_minor": 2
}
