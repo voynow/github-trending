{
 "cells": [
  {
   "cell_type": "code",
   "execution_count": 1,
   "metadata": {},
   "outputs": [],
   "source": [
    "%reload_ext autoreload\n",
    "%autoreload 2\n",
    "\n",
    "from llm_blocks import blocks"
   ]
  },
  {
   "cell_type": "code",
   "execution_count": 18,
   "metadata": {},
   "outputs": [
    {
     "name": "stdout",
     "output_type": "stream",
     "text": [
      "Template block response: Hello this is an example.\n",
      "Hello this is an example.\n"
     ]
    }
   ],
   "source": [
    "template_block = blocks.create_block(template=\"Mention 'template block response' before answering: {query}\")\n",
    "generic_block = blocks.create_block()\n",
    "\n",
    "template_resp = template_block(\"Say 'Hello this is an example'\")\n",
    "generic_resp = generic_block(\"Say 'Hello this is an example'\")\n",
    "\n",
    "print(f\"{template_resp}\")\n",
    "print(f\"{generic_resp}\")"
   ]
  },
  {
   "cell_type": "code",
   "execution_count": 25,
   "metadata": {},
   "outputs": [
    {
     "name": "stdout",
     "output_type": "stream",
     "text": [
      "¡Hola usuario! ¿Cómo estás?\n",
      "Hello! How can I assist you today?"
     ]
    }
   ],
   "source": [
    "template_block = blocks.create_block(stream=True, template=\"Respond in spanish: {query}\")\n",
    "generic_block = blocks.create_block(stream=True)\n",
    "\n",
    "template_resp = template_block(\"Say hello to the user\")\n",
    "print(\"\")\n",
    "generic_resp = generic_block(\"Say hello to the user\")"
   ]
  }
 ],
 "metadata": {
  "kernelspec": {
   "display_name": "venv",
   "language": "python",
   "name": "python3"
  },
  "language_info": {
   "codemirror_mode": {
    "name": "ipython",
    "version": 3
   },
   "file_extension": ".py",
   "mimetype": "text/x-python",
   "name": "python",
   "nbconvert_exporter": "python",
   "pygments_lexer": "ipython3",
   "version": "3.10.1"
  },
  "orig_nbformat": 4
 },
 "nbformat": 4,
 "nbformat_minor": 2
}
