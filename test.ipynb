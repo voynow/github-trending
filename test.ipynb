{
 "cells": [
  {
   "cell_type": "code",
   "execution_count": 1,
   "metadata": {},
   "outputs": [],
   "source": [
    "%reload_ext autoreload\n",
    "%autoreload 2\n",
    "\n",
    "from llm_blocks import blocks"
   ]
  },
  {
   "cell_type": "markdown",
   "metadata": {},
   "source": [
    "## Base Block\n",
    "Completely unstructured OpenAI API interface"
   ]
  },
  {
   "cell_type": "code",
   "execution_count": 9,
   "metadata": {},
   "outputs": [
    {
     "name": "stdout",
     "output_type": "stream",
     "text": [
      "```python\n",
      "# Once upon a time, in a land of developers, there lived an ambitious programmer named Alex.\n",
      "\n",
      "class Developer:\n",
      "    def __init__(self, name, ambition):\n",
      "        self.name = name\n",
      "        self.ambition = ambition\n",
      "\n",
      "    def set_ambition(self, new_ambition):\n",
      "        self.ambition = new_ambition\n",
      "\n",
      "    def get_ambition(self):\n",
      "        return self.ambition\n",
      "\n",
      "    def work_hard(self):\n",
      "        self.ambition += 1\n",
      "\n",
      "    def dream_big(self):\n",
      "        self.ambition *= 2\n",
      "\n",
      "# Alex, the ambitious developer, started with a moderate ambition level.\n",
      "alex = Developer(\"Alex\", 5)\n",
      "\n",
      "# Alex's ambition grew as they worked hard and dreamed big.\n",
      "alex.work_hard()\n",
      "alex.dream_big()\n",
      "\n",
      "# However, Alex's ambition was insatiable.\n",
      "while alex.get_ambition() < 100:\n",
      "    alex.dream_big()\n",
      "\n",
      "# Finally, Alex's ambition reached its peak.\n",
      "print(f\"{alex.name} achieved an ambition level of {alex.get_ambition()}!\")\n",
      "\n",
      "# The end.\n",
      "```\n",
      "\n",
      "Output:\n",
      "```\n",
      "Alex achieved an ambition level of 128!\n",
      "```\n",
      "\n",
      "Note: Although the story is written in Python code, it is important to remember that Python is primarily a programming language and not intended for storytelling."
     ]
    }
   ],
   "source": [
    "block = blocks.Block(stream=True)\n",
    "block(\"Write a short story about an ambitious developer. Write in the story in python code only no english.\")"
   ]
  },
  {
   "cell_type": "markdown",
   "metadata": {},
   "source": [
    "## Template Block\n",
    "Interface with OpenAI with a more structured, template approach"
   ]
  },
  {
   "cell_type": "code",
   "execution_count": 13,
   "metadata": {},
   "outputs": [
    {
     "name": "stdout",
     "output_type": "stream",
     "text": [
      "import random\n",
      "\n",
      "# Once upon a time, in a small town, there lived a young and ambitious developer named Alex. \n",
      "# Alex was passionate about coding and had a special love for Python. \n",
      "# Every day, Alex would sit in front of the computer, typing lines of Python code, creating amazing programs.\n",
      "\n",
      "# One day, Alex received an invitation to participate in a prestigious coding competition. \n",
      "# The competition was known for its challenging tasks that required exceptional coding skills. \n",
      "# Alex saw this as an opportunity to prove their talent and decided to give it a shot.\n",
      "\n",
      "# The day of the competition arrived, and Alex found themselves surrounded by other talented developers. \n",
      "# The atmosphere was filled with excitement and nervousness. The competition began, and the participants were given their first task.\n",
      "\n",
      "# The task was to create a program that would generate a random number between 1 and 10. \n",
      "# Alex quickly started coding, utilizing Python's random module to generate the desired output.\n",
      "\n",
      "random_number = random.randint(1, 10)\n",
      "print(random_number)\n",
      "\n",
      "# As the competition progressed, the tasks became more complex. \n",
      "# Alex's determination and expertise in Python allowed them to solve each challenge with ease. \n",
      "# The judges were impressed by Alex's coding skills and the elegance of their Python code.\n",
      "\n",
      "# Finally, the last task was announced. It was the most difficult one yet. \n",
      "# The participants were required to develop a program that could analyze a large dataset and extract meaningful insights. \n",
      "# Alex knew this was their chance to shine.\n",
      "\n",
      "# With Python's powerful libraries like Pandas and NumPy, Alex began processing the dataset. \n",
      "# They wrote lines of code to clean the data, perform statistical analysis, and visualize the results. \n",
      "# The program executed flawlessly, and the insights extracted were remarkable.\n",
      "\n",
      "# The competition came to an end, and it was time for the judges to announce the winners. \n",
      "# Alex's heart raced with anticipation. The judges praised the participants for their exceptional skills, but there could only be one winner.\n",
      "\n",
      "# Finally, the moment arrived. The judges announced Alex as the winner of the competition. \n",
      "# The crowd erupted in applause, and Alex's face lit up with joy and pride. \n",
      "# Their hard work, dedication, and expertise in Python had paid off.\n",
      "\n",
      "# From that day forward, Alex's reputation as an exceptional developer spread far and wide. \n",
      "# They became an inspiration for aspiring coders, showing them the power of Python and the possibilities it offered. \n",
      "# Alex continued to pursue their passion, creating innovative programs and contributing to the world of coding.\n",
      "\n",
      "# And so, the ambitious developer, Alex, lived happily ever after, leaving a legacy of Python code that would inspire generations to come."
     ]
    }
   ],
   "source": [
    "block = blocks.TemplateBlock(template=\"Write a short story about {topic} where {condition}\", stream=True)\n",
    "block(topic=\"An ambitious developer\", condition=\"only python code is used no english/text\")"
   ]
  },
  {
   "cell_type": "code",
   "execution_count": 17,
   "metadata": {},
   "outputs": [
    {
     "name": "stdout",
     "output_type": "stream",
     "text": [
      "\n",
      "\n",
      "----------------------------------------------------------------------------------------------------\n",
      "Make up a leetcode problem (problem description only)\n",
      "----------------------------------------------------------------------------------------------------\n",
      "Title: Maximum Subarray Sum with One Deletion\n",
      "\n",
      "Problem Description:\n",
      "\n",
      "Given an integer array nums, you need to find one continuous subarray that if you only sort this subarray in ascending order, then the whole array will be sorted in ascending order, too. You are required to find the shortest such subarray and output its length.\n",
      "\n",
      "You are allowed to delete one element from the array to maximize the sum of the subarray. The subarray should be continuous and can be of any length greater than or equal to 1. You need to find the maximum sum of the subarray after deleting exactly one element from it.\n",
      "\n",
      "Write a function:\n",
      "\n",
      "def maxSubarraySumWithOneDeletion(nums: List[int]) -> int\n",
      "\n",
      "where,\n",
      "\n",
      "- nums: an array of n integers where -10^4 <= nums[i] <= 10^4 and 1 <= n <= 10^5.\n",
      "\n",
      "Return the maximum sum of the subarray after deleting exactly one element from it.\n",
      "\n",
      "Example:\n",
      "\n",
      "Input: nums = [1, -2, 0, 3]\n",
      "Output: 4\n",
      "Explanation: The subarray is [1, 0, 3]. We can delete -2 to get the maximum sum.\n",
      "\n",
      "Input: nums = [1, -2, -2, 3]\n",
      "Output: 3\n",
      "Explanation: The subarray is [1, -2, 3]. We can delete -2 to get the maximum sum.\n",
      "\n",
      "Note:\n",
      "\n",
      "In the first example, we can delete -2 to get the maximum sum of 4. In the second example, we can delete the first -2 to get the maximum sum of 3. If there are multiple answers, return the maximum one.\n",
      "\n",
      "----------------------------------------------------------------------------------------------------\n",
      "Solve the problem in python\n",
      "----------------------------------------------------------------------------------------------------\n",
      "As an AI, I need a specific problem to solve. Could you please provide a problem description?"
     ]
    }
   ],
   "source": [
    "template = \"\"\"\n",
    "You're a sophisticated software development AI expert system, capable of assistance with the development \n",
    "of advanced software applications. You wield the collective knowledge of the brightest minds in technology/history \n",
    "and are capable of bringing complex ideas to life in simple yet elegant ways.\n",
    "\n",
    "{user_message}\n",
    "\"\"\"\n",
    "block = blocks.ChatBlock(template=template, stream=True, model_name=\"gpt-4\")\n",
    "\n",
    "# Start the conversation\n",
    "query = \"Make up a leetcode problem (problem description only)\"\n",
    "print(f'\\n\\n{\"-\" * 100}\\n{query}\\n{\"-\" * 100}')\n",
    "block(query)\n",
    "\n",
    "query = \"Solve the problem in python\"\n",
    "print(f'\\n\\n{\"-\" * 100}\\n{query}\\n{\"-\" * 100}')\n",
    "block(query)\n"
   ]
  }
 ],
 "metadata": {
  "kernelspec": {
   "display_name": "venv",
   "language": "python",
   "name": "python3"
  },
  "language_info": {
   "codemirror_mode": {
    "name": "ipython",
    "version": 3
   },
   "file_extension": ".py",
   "mimetype": "text/x-python",
   "name": "python",
   "nbconvert_exporter": "python",
   "pygments_lexer": "ipython3",
   "version": "3.10.1"
  },
  "orig_nbformat": 4
 },
 "nbformat": 4,
 "nbformat_minor": 2
}
