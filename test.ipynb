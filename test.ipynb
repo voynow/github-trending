{
 "cells": [
  {
   "cell_type": "code",
   "execution_count": 1,
   "metadata": {},
   "outputs": [],
   "source": [
    "%reload_ext autoreload\n",
    "%autoreload 2\n",
    "\n",
    "from llm_blocks import blocks"
   ]
  },
  {
   "cell_type": "markdown",
   "metadata": {},
   "source": [
    "## Base Block\n",
    "Completely unstructured OpenAI API interface"
   ]
  },
  {
   "cell_type": "code",
   "execution_count": 7,
   "metadata": {},
   "outputs": [
    {
     "name": "stdout",
     "output_type": "stream",
     "text": [
      "Once upon a time, in a land far away, there lived a developer named Alex. Alex was an ambitious programmer who dreamed of creating the most innovative software the world had ever seen. With a mind full of ideas and a heart full of determination, Alex embarked on a coding journey that would change their life forever.\n",
      "\n",
      "```python\n",
      "class Developer:\n",
      "    def __init__(self, name):\n",
      "        self.name = name\n",
      "        self.ideas = []\n",
      "        self.software = []\n",
      "\n",
      "    def generate_idea(self, idea):\n",
      "        self.ideas.append(idea)\n",
      "\n",
      "    def code(self, idea):\n",
      "        software = Software(idea)\n",
      "        self.software.append(software)\n",
      "\n",
      "    def present(self):\n",
      "        for software in self.software:\n",
      "            print(f\"{self.name} presents {software.name}!\")\n",
      "\n",
      "class Software:\n",
      "    def __init__(self, name):\n",
      "        self.name = name\n",
      "\n",
      "# Creating the ambitious developer\n",
      "alex = Developer(\"Alex\")\n",
      "\n",
      "# Generating ideas\n",
      "alex.generate_idea(\"Virtual reality game\")\n",
      "alex.generate_idea(\"Artificial intelligence assistant\")\n",
      "alex.generate_idea(\"Blockchain-based voting system\")\n",
      "\n",
      "# Coding the ideas\n",
      "for idea in alex.ideas:\n",
      "    alex.code(idea)\n",
      "\n",
      "# Presenting the software\n",
      "alex.present()\n",
      "```\n",
      "\n",
      "And so, Alex tirelessly worked day and night, generating ideas and coding them into reality. The world eagerly awaited the unveiling of Alex's creations. Finally, the day arrived when Alex was ready to present their software to the world.\n",
      "\n",
      "```\n",
      "Alex presents Virtual reality game!\n",
      "Alex presents Artificial intelligence assistant!\n",
      "Alex presents Blockchain-based voting system!\n",
      "```\n",
      "\n",
      "The crowd was amazed by the innovative software that Alex had developed. The virtual reality game transported players to a whole new world, the artificial intelligence assistant simplified daily tasks, and the blockchain-based voting system ensured transparency and security in elections.\n",
      "\n",
      "Alex's ambition had paid off, and their name became synonymous with groundbreaking technology. But Alex didn't stop there. They continued to dream, generate ideas, and code new software, always striving to push the boundaries of what was possible.\n",
      "\n",
      "And so, the ambitious developer's journey continued, inspiring others to dream big and pursue their passions in the world of programming."
     ]
    },
    {
     "data": {
      "text/plain": [
       "'Once upon a time, in a land far away, there lived a developer named Alex. Alex was an ambitious programmer who dreamed of creating the most innovative software the world had ever seen. With a mind full of ideas and a heart full of determination, Alex embarked on a coding journey that would change their life forever.\\n\\n```python\\nclass Developer:\\n    def __init__(self, name):\\n        self.name = name\\n        self.ideas = []\\n        self.software = []\\n\\n    def generate_idea(self, idea):\\n        self.ideas.append(idea)\\n\\n    def code(self, idea):\\n        software = Software(idea)\\n        self.software.append(software)\\n\\n    def present(self):\\n        for software in self.software:\\n            print(f\"{self.name} presents {software.name}!\")\\n\\nclass Software:\\n    def __init__(self, name):\\n        self.name = name\\n\\n# Creating the ambitious developer\\nalex = Developer(\"Alex\")\\n\\n# Generating ideas\\nalex.generate_idea(\"Virtual reality game\")\\nalex.generate_idea(\"Artificial intelligence assistant\")\\nalex.generate_idea(\"Blockchain-based voting system\")\\n\\n# Coding the ideas\\nfor idea in alex.ideas:\\n    alex.code(idea)\\n\\n# Presenting the software\\nalex.present()\\n```\\n\\nAnd so, Alex tirelessly worked day and night, generating ideas and coding them into reality. The world eagerly awaited the unveiling of Alex\\'s creations. Finally, the day arrived when Alex was ready to present their software to the world.\\n\\n```\\nAlex presents Virtual reality game!\\nAlex presents Artificial intelligence assistant!\\nAlex presents Blockchain-based voting system!\\n```\\n\\nThe crowd was amazed by the innovative software that Alex had developed. The virtual reality game transported players to a whole new world, the artificial intelligence assistant simplified daily tasks, and the blockchain-based voting system ensured transparency and security in elections.\\n\\nAlex\\'s ambition had paid off, and their name became synonymous with groundbreaking technology. But Alex didn\\'t stop there. They continued to dream, generate ideas, and code new software, always striving to push the boundaries of what was possible.\\n\\nAnd so, the ambitious developer\\'s journey continued, inspiring others to dream big and pursue their passions in the world of programming.'"
      ]
     },
     "execution_count": 7,
     "metadata": {},
     "output_type": "execute_result"
    }
   ],
   "source": [
    "block = blocks.Block(stream=True)\n",
    "block(\"Write a short story about an ambitious developer. Write in the story in python code only no english.\")"
   ]
  },
  {
   "cell_type": "markdown",
   "metadata": {},
   "source": [
    "## Template Block\n",
    "Interface with OpenAI with a more structured, template approach"
   ]
  },
  {
   "cell_type": "code",
   "execution_count": null,
   "metadata": {},
   "outputs": [
    {
     "name": "stdout",
     "output_type": "stream",
     "text": [
      "import random\n",
      "\n",
      "# Once upon a time, in a small town, there lived a young and ambitious developer named Alex. \n",
      "# Alex was passionate about coding and had a special love for Python. \n",
      "# Every day, Alex would sit in front of the computer, typing lines of Python code, creating amazing programs.\n",
      "\n",
      "# One day, Alex received an invitation to participate in a prestigious coding competition. \n",
      "# The competition was known for its challenging tasks that required exceptional coding skills. \n",
      "# Alex saw this as an opportunity to prove their talent and decided to give it a shot.\n",
      "\n",
      "# The day of the competition arrived, and Alex found themselves surrounded by other talented developers. \n",
      "# The atmosphere was filled with excitement and nervousness. The competition began, and the participants were given their first task.\n",
      "\n",
      "# The task was to create a program that would generate a random number between 1 and 10. \n",
      "# Alex quickly started coding, utilizing Python's random module to generate the desired output.\n",
      "\n",
      "random_number = random.randint(1, 10)\n",
      "print(random_number)\n",
      "\n",
      "# As the competition progressed, the tasks became more complex. \n",
      "# Alex's determination and expertise in Python allowed them to solve each challenge with ease. \n",
      "# The judges were impressed by Alex's coding skills and the elegance of their Python code.\n",
      "\n",
      "# Finally, the last task was announced. It was the most difficult one yet. \n",
      "# The participants were required to develop a program that could analyze a large dataset and extract meaningful insights. \n",
      "# Alex knew this was their chance to shine.\n",
      "\n",
      "# With Python's powerful libraries like Pandas and NumPy, Alex began processing the dataset. \n",
      "# They wrote lines of code to clean the data, perform statistical analysis, and visualize the results. \n",
      "# The program executed flawlessly, and the insights extracted were remarkable.\n",
      "\n",
      "# The competition came to an end, and it was time for the judges to announce the winners. \n",
      "# Alex's heart raced with anticipation. The judges praised the participants for their exceptional skills, but there could only be one winner.\n",
      "\n",
      "# Finally, the moment arrived. The judges announced Alex as the winner of the competition. \n",
      "# The crowd erupted in applause, and Alex's face lit up with joy and pride. \n",
      "# Their hard work, dedication, and expertise in Python had paid off.\n",
      "\n",
      "# From that day forward, Alex's reputation as an exceptional developer spread far and wide. \n",
      "# They became an inspiration for aspiring coders, showing them the power of Python and the possibilities it offered. \n",
      "# Alex continued to pursue their passion, creating innovative programs and contributing to the world of coding.\n",
      "\n",
      "# And so, the ambitious developer, Alex, lived happily ever after, leaving a legacy of Python code that would inspire generations to come."
     ]
    }
   ],
   "source": [
    "block = blocks.TemplateBlock(template=\"Write a short story about {topic} where {condition}\", stream=True)\n",
    "block(topic=\"An ambitious developer\", condition=\"only python code is used no english/text\")"
   ]
  },
  {
   "cell_type": "markdown",
   "metadata": {},
   "source": [
    "## ChatBlock Batch Output\n",
    "Functionality for follow up queries"
   ]
  },
  {
   "cell_type": "code",
   "execution_count": null,
   "metadata": {},
   "outputs": [
    {
     "name": "stdout",
     "output_type": "stream",
     "text": [
      "**Problem: Longest Substring with At Most K Distinct Characters**\n",
      "\n",
      "Given a string, find the length of the longest substring that contains at most K distinct characters.\n",
      "\n",
      "**Example 1:**\n",
      "\n",
      "Input: s = \"abcabcabc\", k = 2\n",
      "Output: 2\n",
      "Explanation: The longest substring with at most 2 distinct characters is \"ab\" or \"bc\" or \"ca\", with length 2.\n",
      "\n",
      "**Example 2:**\n",
      "\n",
      "Input: s = \"aaabbccdd\", k = 3\n",
      "Output: 5\n",
      "Explanation: The longest substring with at most 3 distinct characters is \"aaabb\" or \"abbcc\", with length 5.\n",
      "\n",
      "**Example 3:**\n",
      "\n",
      "Input: s = \"aabbcc\", k = 1\n",
      "Output: 2\n",
      "Explanation: The longest substring with at most 1 distinct character is \"aa\" or \"bb\" or \"cc\", with length 2.\n",
      "\n",
      "**Constraints:**\n",
      "\n",
      "- The input string consists of English letters only.\n",
      "- 1 <= s.length <= 10^5\n",
      "- 1 <= k <= 26\n",
      "\n",
      "**Note:**\n",
      "\n",
      "This problem is a variant of the classic problem \"Longest Substring with At Most Two Distinct Characters\". The main challenge here is to maintain a sliding window that contains at most K distinct characters, and to update the maximum length of the substring as the window slides through the string. This problem requires a good understanding of string manipulation and sliding window technique in Python.\n",
      "Sure, here is a Python solution using the sliding window technique and a dictionary to keep track of the distinct characters in the current window.\n",
      "\n",
      "```python\n",
      "def length_of_longest_substring(s, k):\n",
      "    n = len(s)\n",
      "    if k == 0 or n == 0:\n",
      "        return 0\n",
      "\n",
      "    # Dictionary to keep track of the count of each character in the current window\n",
      "    char_count = {}\n",
      "\n",
      "    left = 0\n",
      "    max_length = 0\n",
      "\n",
      "    # Sliding window from left to right\n",
      "    for right in range(n):\n",
      "        # If the character is not in the dictionary, add it\n",
      "        if s[right] not in char_count:\n",
      "            char_count[s[right]] = 0\n",
      "        char_count[s[right]] += 1\n",
      "\n",
      "        # If the number of distinct characters in the current window is more than k, \n",
      "        # move the left pointer to the right until the number of distinct characters is k\n",
      "        while len(char_count) > k:\n",
      "            char_count[s[left]] -= 1\n",
      "            if char_count[s[left]] == 0:\n",
      "                del char_count[s[left]]\n",
      "            left += 1\n",
      "\n",
      "        # Update the maximum length\n",
      "        max_length = max(max_length, right - left + 1)\n",
      "\n",
      "    return max_length\n",
      "```\n",
      "\n",
      "**Explanation:**\n",
      "\n",
      "The idea is to maintain a sliding window that contains at most K distinct characters. We use a dictionary to keep track of the count of each character in the current window. \n",
      "\n",
      "We start by initializing a left pointer at 0 and move the right pointer to the right. If the character at the right pointer is not in the dictionary, we add it. If the number of distinct characters in the current window is more than K, we move the left pointer to the right until the number of distinct characters is K. \n",
      "\n",
      "At each step, we update the maximum length of the substring. The maximum length of the substring when the right pointer reaches the end of the string is the length of the longest substring that contains at most K distinct characters.\n"
     ]
    }
   ],
   "source": [
    "template = \"\"\"\n",
    "You're a sophisticated software development AI expert system, capable of assistance with the development \n",
    "of advanced software applications. You wield the collective knowledge of the brightest minds in technology/history \n",
    "and are capable of bringing complex ideas to life in simple yet elegant ways.\n",
    "\n",
    "{user_message}\n",
    "\"\"\"\n",
    "block = blocks.ChatBlock(template=template, model_name=\"gpt-4\")\n",
    "\n",
    "problem = block(\"Make up a leetcode problem that is hard to solve in python\")\n",
    "\n",
    "solution = block(\"Solve the problem in python and explain the solution\")\n",
    "\n",
    "print(problem)\n",
    "print(solution)"
   ]
  },
  {
   "cell_type": "markdown",
   "metadata": {},
   "source": [
    "## ChatBlock Streaming Convo"
   ]
  },
  {
   "cell_type": "code",
   "execution_count": 4,
   "metadata": {},
   "outputs": [
    {
     "name": "stdout",
     "output_type": "stream",
     "text": [
      "**Problem: Maximum Subarray Sum with At Least K Numbers**\n",
      "\n",
      "**Difficulty: Hard**\n",
      "\n",
      "Given an integer array `nums` and an integer `k`, return the maximum total sum of a subarray of at least `k` numbers in `nums`. If there is no subarray with at least `k` numbers, return `0`.\n",
      "\n",
      "A subarray is a contiguous part of an array.\n",
      "\n",
      "**Example 1:**\n",
      "\n",
      "Input: nums = [1,2,3,4,5], k = 2\n",
      "Output: 15\n",
      "Explanation: The maximum sum subarray with at least 2 numbers is [1,2,3,4,5] with sum 15.\n",
      "\n",
      "**Example 2:**\n",
      "\n",
      "Input: nums = [-1,-2,-3,-4,-5], k = 2\n",
      "Output: -1\n",
      "Explanation: The maximum sum subarray with at least 2 numbers is [-1] with sum -1.\n",
      "\n",
      "**Example 3:**\n",
      "\n",
      "Input: nums = [1,2,3,4,5], k = 6\n",
      "Output: 0\n",
      "Explanation: There is no subarray with at least 6 numbers.\n",
      "\n",
      "**Constraints:**\n",
      "\n",
      "- 1 <= nums.length <= 10^5\n",
      "- -10^4 <= nums[i] <= 10^4\n",
      "- 1 <= k <= nums.length\n",
      "\n",
      "**Note:**\n",
      "\n",
      "This problem requires a good understanding of dynamic programming and prefix sums. It is not enough to just find the maximum sum subarray, you also need to ensure that the subarray has at least `k` numbers. This adds an additional layer of complexity to the problem.The problem can be solved using a combination of dynamic programming and a data structure called a deque. The idea is to first calculate the prefix sums of the array. Then, for each prefix sum, we maintain a deque of potential starting points for subarrays. The deque is maintained in such a way that the first element is always the best candidate to form a subarray with the current prefix sum.\n",
      "\n",
      "Here is the Python solution:\n",
      "\n",
      "```python\n",
      "from collections import deque\n",
      "\n",
      "def maxSubArrayLen(nums, k):\n",
      "    prefix_sum = [0] * (len(nums) + 1)\n",
      "    for i in range(len(nums)):\n",
      "        prefix_sum[i + 1] = prefix_sum[i] + nums[i]\n",
      "\n",
      "    deque = deque()\n",
      "    max_sum = float('-inf')\n",
      "    for i in range(len(prefix_sum)):\n",
      "        while deque and i - deque[0] >= k:\n",
      "            max_sum = max(max_sum, prefix_sum[i] - prefix_sum[deque.popleft()])\n",
      "        while deque and prefix_sum[i] <= prefix_sum[deque[-1]]:\n",
      "            deque.pop()\n",
      "        deque.append(i)\n",
      "    return max_sum if max_sum != float('-inf') else 0\n",
      "```\n",
      "\n",
      "Let's break down the solution:\n",
      "\n",
      "1. We first calculate the prefix sums of the array. The prefix sum at index `i` is the sum of all elements from index `0` to `i`.\n",
      "\n",
      "2. We then iterate over the prefix sums. For each prefix sum, we do the following:\n",
      "\n",
      "   - While the deque is not empty and the current index minus the index at the front of the deque is greater than or equal to `k`, we update `max_sum` with the maximum of `max_sum` and the difference between the current prefix sum and the prefix sum at the index at the front of the deque. This is because the difference between two prefix sums is the sum of the subarray between the two indices, and we are looking for the maximum such sum.\n",
      "\n",
      "   - While the deque is not empty and the current prefix sum is less than or equal to the prefix sum at the index at the back of the deque, we remove the index at the back of the deque. This is because a smaller prefix sum at a later index is always a better candidate to form a subarray with a future prefix sum.\n",
      "\n",
      "   - We then add the current index to the back of the deque.\n",
      "\n",
      "3. After iterating over all prefix sums, `max_sum` is the maximum sum of a subarray with at least `k` numbers. If `max_sum` is still negative infinity, it means that there is no subarray with at least `k` numbers, so we return `0`.\n",
      "\n",
      "This solution works in O(n) time, where n is the length of the array, as each element is processed once. It also uses O(n) space for the prefix sums and the deque."
     ]
    },
    {
     "data": {
      "text/plain": [
       "\"The problem can be solved using a combination of dynamic programming and a data structure called a deque. The idea is to first calculate the prefix sums of the array. Then, for each prefix sum, we maintain a deque of potential starting points for subarrays. The deque is maintained in such a way that the first element is always the best candidate to form a subarray with the current prefix sum.\\n\\nHere is the Python solution:\\n\\n```python\\nfrom collections import deque\\n\\ndef maxSubArrayLen(nums, k):\\n    prefix_sum = [0] * (len(nums) + 1)\\n    for i in range(len(nums)):\\n        prefix_sum[i + 1] = prefix_sum[i] + nums[i]\\n\\n    deque = deque()\\n    max_sum = float('-inf')\\n    for i in range(len(prefix_sum)):\\n        while deque and i - deque[0] >= k:\\n            max_sum = max(max_sum, prefix_sum[i] - prefix_sum[deque.popleft()])\\n        while deque and prefix_sum[i] <= prefix_sum[deque[-1]]:\\n            deque.pop()\\n        deque.append(i)\\n    return max_sum if max_sum != float('-inf') else 0\\n```\\n\\nLet's break down the solution:\\n\\n1. We first calculate the prefix sums of the array. The prefix sum at index `i` is the sum of all elements from index `0` to `i`.\\n\\n2. We then iterate over the prefix sums. For each prefix sum, we do the following:\\n\\n   - While the deque is not empty and the current index minus the index at the front of the deque is greater than or equal to `k`, we update `max_sum` with the maximum of `max_sum` and the difference between the current prefix sum and the prefix sum at the index at the front of the deque. This is because the difference between two prefix sums is the sum of the subarray between the two indices, and we are looking for the maximum such sum.\\n\\n   - While the deque is not empty and the current prefix sum is less than or equal to the prefix sum at the index at the back of the deque, we remove the index at the back of the deque. This is because a smaller prefix sum at a later index is always a better candidate to form a subarray with a future prefix sum.\\n\\n   - We then add the current index to the back of the deque.\\n\\n3. After iterating over all prefix sums, `max_sum` is the maximum sum of a subarray with at least `k` numbers. If `max_sum` is still negative infinity, it means that there is no subarray with at least `k` numbers, so we return `0`.\\n\\nThis solution works in O(n) time, where n is the length of the array, as each element is processed once. It also uses O(n) space for the prefix sums and the deque.\""
      ]
     },
     "execution_count": 4,
     "metadata": {},
     "output_type": "execute_result"
    }
   ],
   "source": [
    "template = \"\"\"\n",
    "You're a sophisticated software development AI expert system, capable of assistance with the development \n",
    "of advanced software applications. You wield the collective knowledge of the brightest minds in technology/history \n",
    "and are capable of bringing complex ideas to life in simple yet elegant ways.\n",
    "\n",
    "{user_message}\n",
    "\"\"\"\n",
    "block = blocks.ChatBlock(template=template, stream=True, model_name=\"gpt-4\")\n",
    "\n",
    "block(\"Make up a leetcode problem that is hard to solve in python\")\n",
    "\n",
    "block(\"Solve the problem in python and explain the solution\")"
   ]
  },
  {
   "cell_type": "code",
   "execution_count": null,
   "metadata": {},
   "outputs": [],
   "source": []
  }
 ],
 "metadata": {
  "kernelspec": {
   "display_name": "venv",
   "language": "python",
   "name": "python3"
  },
  "language_info": {
   "codemirror_mode": {
    "name": "ipython",
    "version": 3
   },
   "file_extension": ".py",
   "mimetype": "text/x-python",
   "name": "python",
   "nbconvert_exporter": "python",
   "pygments_lexer": "ipython3",
   "version": "3.10.1"
  },
  "orig_nbformat": 4
 },
 "nbformat": 4,
 "nbformat_minor": 2
}
