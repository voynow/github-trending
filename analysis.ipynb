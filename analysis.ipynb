{
 "cells": [
  {
   "cell_type": "code",
   "execution_count": 68,
   "metadata": {},
   "outputs": [
    {
     "name": "stderr",
     "output_type": "stream",
     "text": [
      "C:\\Users\\voyno\\AppData\\Local\\Temp\\ipykernel_16960\\2554490496.py:3: MatplotlibDeprecationWarning: The seaborn styles shipped by Matplotlib are deprecated since 3.6, as they no longer correspond to the styles shipped by seaborn. However, they will remain available as 'seaborn-v0_8-<style>'. Alternatively, directly use the seaborn API instead.\n",
      "  plt.style.use('seaborn')\n"
     ]
    }
   ],
   "source": [
    "import pandas as pd\n",
    "import matplotlib.pyplot as plt\n",
    "plt.style.use('seaborn')\n",
    "\n",
    "from IPython.display import Markdown, display"
   ]
  },
  {
   "cell_type": "code",
   "execution_count": 59,
   "metadata": {},
   "outputs": [
    {
     "data": {
      "text/html": [
       "<div>\n",
       "<style scoped>\n",
       "    .dataframe tbody tr th:only-of-type {\n",
       "        vertical-align: middle;\n",
       "    }\n",
       "\n",
       "    .dataframe tbody tr th {\n",
       "        vertical-align: top;\n",
       "    }\n",
       "\n",
       "    .dataframe thead th {\n",
       "        text-align: right;\n",
       "    }\n",
       "</style>\n",
       "<table border=\"1\" class=\"dataframe\">\n",
       "  <thead>\n",
       "    <tr style=\"text-align: right;\">\n",
       "      <th></th>\n",
       "      <th>execution_time</th>\n",
       "      <th>input_data_length</th>\n",
       "      <th>output_data_length</th>\n",
       "    </tr>\n",
       "    <tr>\n",
       "      <th>chain_name</th>\n",
       "      <th></th>\n",
       "      <th></th>\n",
       "      <th></th>\n",
       "    </tr>\n",
       "  </thead>\n",
       "  <tbody>\n",
       "    <tr>\n",
       "      <th>RUN_QUERY_RAG</th>\n",
       "      <td>78.053636</td>\n",
       "      <td>6397.816667</td>\n",
       "      <td>2075.0500</td>\n",
       "    </tr>\n",
       "    <tr>\n",
       "      <th>UPGRADE_QUERY</th>\n",
       "      <td>10.762632</td>\n",
       "      <td>33.125000</td>\n",
       "      <td>462.6625</td>\n",
       "    </tr>\n",
       "    <tr>\n",
       "      <th>CONTEXT_VALIDATOR</th>\n",
       "      <td>1.369546</td>\n",
       "      <td>5637.504425</td>\n",
       "      <td>4.0000</td>\n",
       "    </tr>\n",
       "  </tbody>\n",
       "</table>\n",
       "</div>"
      ],
      "text/plain": [
       "                   execution_time  input_data_length  output_data_length\n",
       "chain_name                                                              \n",
       "RUN_QUERY_RAG           78.053636        6397.816667           2075.0500\n",
       "UPGRADE_QUERY           10.762632          33.125000            462.6625\n",
       "CONTEXT_VALIDATOR        1.369546        5637.504425              4.0000"
      ]
     },
     "execution_count": 59,
     "metadata": {},
     "output_type": "execute_result"
    }
   ],
   "source": [
    "# Observation: Latency is a function of output sixe, not input size\n",
    "\n",
    "responses_df = pd.read_csv('data/eval_chainlogs.csv')\n",
    "\n",
    "disp_cols = [\"execution_time\"]\n",
    "for name in ['input_data', 'output_data']:\n",
    "    new_col = f'{name}_length'\n",
    "    responses_df[new_col] = responses_df[name].apply(lambda x: len(x))\n",
    "    disp_cols.append(new_col)\n",
    "\n",
    "responses_df.groupby('chain_name')[disp_cols].mean().sort_values('execution_time', ascending=False)\n"
   ]
  },
  {
   "cell_type": "code",
   "execution_count": 60,
   "metadata": {},
   "outputs": [
    {
     "data": {
      "image/png": "[encoded data removed]",
      "text/plain": [
       "<Figure size 800x550 with 1 Axes>"
      ]
     },
     "metadata": {},
     "output_type": "display_data"
    },
    {
     "name": "stdout",
     "output_type": "stream",
     "text": [
      "Average score grouped by query\n"
     ]
    },
    {
     "data": {
      "text/plain": [
       "query\n",
       "Can my junior dev create a website?                               86.5\n",
       "Explain this to me like I'm 5.                                    87.5\n",
       "WHats the difference between code2prompt and code2prompt2code?    86.5\n",
       "What does this do?                                                86.5\n",
       "What is the high level workflow starting with main.py?            76.5\n",
       "What is the point of the .env file?                               94.5\n",
       "Name: score, dtype: float64"
      ]
     },
     "metadata": {},
     "output_type": "display_data"
    }
   ],
   "source": [
    "responses_df = pd.read_csv('data/eval_responses.csv')\n",
    "\n",
    "plt.hist(responses_df['score'], bins=12)\n",
    "plt.xlabel('Score')\n",
    "plt.ylabel('Count')\n",
    "plt.title('Distribution of Scores across all Queries')\n",
    "plt.show()\n",
    "\n",
    "print(\"Average score grouped by query\")\n",
    "display(responses_df.groupby('query')['score'].mean())"
   ]
  },
  {
   "cell_type": "code",
   "execution_count": 74,
   "metadata": {},
   "outputs": [
    {
     "name": "stdout",
     "output_type": "stream",
     "text": [
      "Score: 95\n",
      "What does this do?\n"
     ]
    },
    {
     "data": {
      "text/markdown": [
       "# Purpose of Smol Developer Code Repository\n",
       "\n",
       "The Smol Developer code repository contains a prototype of a \"junior developer\" agent that scaffolds an entire codebase out for the user once they give it a product spec. It is a human-centric and coherent whole program synthesis tool that uses AI to assist in the development process. The codebase is simple, safe, and small, consisting of less than 200 lines of Python and prompts, making it easy to understand and customize.\n",
       "\n",
       "The main purpose of this repository is to provide a tool that allows developers to build their own scaffolding prompt in a tight loop with their Smol Developer. The AI is helpful, harmless, and honest, and it complements the codebase, which is designed to be easy to understand and customize.\n",
       "\n",
       "The Smol Developer uses prompts to generate code, and the user can add to the prompt as they discover underspecified parts of the prompt. The user can also manually run the code and identify errors, and paste the error into the prompt just like they would file a GitHub issue. For extra help, they can use `debugger.py`, which reads the whole codebase to make specific code change suggestions.\n",
       "\n",
       "The Smol Developer is not a no-code or low-code tool, but rather a higher order evolution of programming where the user still needs to be technical but no longer has to implement every detail to scaffold things out. The repository contains a video demo and an arch diagram that shows how the Smol Developer works.\n",
       "\n",
       "The Smol Developer has several innovations and insights, including the ability to install its own dependencies, self-heal by running the code itself and using errors as information for reprompting, using anthropic as the coding layer, and making agents that autonomously run this code in a loop/watch the prompt file and regenerate code each time, on a new git branch.\n",
       "\n",
       "The Smol Developer uses Markdown to prompt for whole program synthesis because it is easy to mix English and code. It also uses copy and paste programming to teach the program to understand how to code around a new API. Debugging is done by `cat`ing the whole codebase with the error message and getting specific fix suggestions. The Smol Developer also has tricks for whole program coherence, such as using an intermediate step to think through shared dependencies and insisting on using that in generating each file.\n",
       "\n",
       "Overall, the Smol Developer code repository provides a tool that allows developers to build their own scaffolding prompt in a tight loop with their Smol Developer. The AI is helpful, harmless, and honest, and it complements the codebase, which is designed to be easy to understand and customize."
      ],
      "text/plain": [
       "<IPython.core.display.Markdown object>"
      ]
     },
     "metadata": {},
     "output_type": "display_data"
    },
    {
     "name": "stdout",
     "output_type": "stream",
     "text": [
      "Score: 90\n",
      "Explain this to me like I'm 5.\n"
     ]
    },
    {
     "data": {
      "text/markdown": [
       "# Understanding Code Repositories\n",
       "\n",
       "A code repository is a centralized location where developers can store and manage their source code. It allows multiple developers to collaborate on a project, track changes to the code over time, and maintain different versions of the code. \n",
       "\n",
       "The most popular code repository is GitHub, which provides a web-based interface for managing code repositories. Developers can create a new repository, upload their code, and collaborate with others by creating branches, submitting pull requests, and reviewing code changes.\n",
       "\n",
       "In the context of the \"smol developer\" project, the code repository is used to store the code generated by the AI-enabled \"junior developer\" agent. The agent takes a product spec as input and generates code based on that spec. The generated code is stored in the code repository, where the human developer can review it, make changes, and add new prompts to refine the code generation process.\n",
       "\n",
       "The \"smol developer\" project is an example of whole program synthesis, where an AI system generates an entire codebase based on a high-level specification. The project uses a combination of Markdown prompts and AI models to generate code that is coherent and human-readable. \n",
       "\n",
       "The project also includes several innovations and insights, such as the use of Markdown prompts for whole program synthesis, copy and paste programming to teach the program how to code around a new API, and debugging by \"cat\"ing the whole codebase with error messages to get specific fix suggestions.\n",
       "\n",
       "Overall, the \"smol developer\" project demonstrates the potential of AI-enabled code generation to simplify and accelerate the software development process. By providing a human-centric and coherent approach to whole program synthesis, the project offers a new way to build software that is both efficient and effective. \n",
       "\n",
       "## Example Usage\n",
       "\n",
       "To use the \"smol developer\" project, follow these steps:\n",
       "\n",
       "1. Clone the code repository to your local machine.\n",
       "2. Install the required dependencies using `pip install -r requirements.txt`.\n",
       "3. Create a new prompt in Markdown format that describes the product you want to build.\n",
       "4. Run `main.py` with the path to your prompt file as an argument: `python main.py path/to/prompt.md`.\n",
       "5. Review the generated code in the `output` directory and make any necessary changes.\n",
       "6. Repeat steps 3-5 until you are satisfied with the generated code.\n",
       "\n",
       "## License\n",
       "\n",
       "The \"smol developer\" project is licensed under the MIT License. See the `LICENSE` file for more information."
      ],
      "text/plain": [
       "<IPython.core.display.Markdown object>"
      ]
     },
     "metadata": {},
     "output_type": "display_data"
    },
    {
     "name": "stdout",
     "output_type": "stream",
     "text": [
      "Score: 85\n",
      "Can my junior dev create a website?\n"
     ]
    },
    {
     "data": {
      "text/markdown": [
       "# Can a junior developer with limited experience use the code repository to create a website?\n",
       "\n",
       "The code repository in question appears to be a prototype of a \"junior developer\" agent that scaffolds an entire codebase out for you once you give it a product spec. The agent is designed to be helpful, harmless, and honest, and is complemented by a codebase that is simple, safe, and small. The codebase is written in Python and Prompts, and is easy to understand and customize.\n",
       "\n",
       "The demo example in `prompt.md` shows the potential of AI-enabled, but still firmly human developer centric, workflow. The user writes a basic prompt for the app they want to build, and `main.py` generates code. The user can then manually run the code and identify errors, or paste the error into the prompt just like they would file a GitHub issue. For extra help, they can use `debugger.py` which reads the whole codebase to make specific code change suggestions.\n",
       "\n",
       "Loop until happiness is attained. Notice that AI is only used as long as it is adding value - once it gets in your way, just take over the codebase from your smol junior developer with no fuss and no hurt feelings.\n",
       "\n",
       "In summary, a junior developer with limited experience could potentially use this code repository to create a website, as the agent is designed to be helpful and easy to use. However, it is important to note that the agent is still in prototype stage and may not be suitable for all use cases."
      ],
      "text/plain": [
       "<IPython.core.display.Markdown object>"
      ]
     },
     "metadata": {},
     "output_type": "display_data"
    },
    {
     "name": "stdout",
     "output_type": "stream",
     "text": [
      "Score: 80\n",
      "Explain this to me like I'm 5.\n"
     ]
    },
    {
     "data": {
      "text/markdown": [
       "# Storing and Managing Code with a Code Repository\n",
       "\n",
       "A code repository is a great tool for storing and managing your code. Here are some steps to get started:\n",
       "\n",
       "1. Choose a code repository platform: There are many options available, such as GitHub, GitLab, and Bitbucket. Choose one that fits your needs and create an account.\n",
       "\n",
       "2. Create a new repository: Once you have an account, create a new repository for your code. Give it a name and description that accurately reflects what the code does.\n",
       "\n",
       "3. Clone the repository: Clone the repository to your local machine using Git. This will create a local copy of the repository that you can work on.\n",
       "\n",
       "4. Add your code: Add your code to the local copy of the repository. Make sure to organize it in a logical way and include any necessary documentation.\n",
       "\n",
       "5. Commit your changes: Once you have made changes to the code, commit them to the local repository. This creates a snapshot of the code at that point in time.\n",
       "\n",
       "6. Push your changes: Push your changes to the remote repository on the code repository platform. This updates the remote repository with your changes.\n",
       "\n",
       "7. Collaborate with others: Invite others to collaborate on the code by giving them access to the repository. They can then clone the repository, make changes, and push them back to the remote repository.\n",
       "\n",
       "By following these steps, you can effectively use a code repository to store and manage your code. Happy coding!"
      ],
      "text/plain": [
       "<IPython.core.display.Markdown object>"
      ]
     },
     "metadata": {},
     "output_type": "display_data"
    },
    {
     "name": "stdout",
     "output_type": "stream",
     "text": [
      "Score: 70\n",
      "What is the high level workflow starting with main.py?\n"
     ]
    },
    {
     "data": {
      "text/markdown": [
       "# Workflow for smol developer starting with main.py\n",
       "\n",
       "The smol developer is a prototype of a \"junior developer\" agent that scaffolds an entire codebase out for you once you give it a product spec. The high-level workflow starting with main.py is as follows:\n",
       "\n",
       "1. Human writes a basic prompt for the app they want to build in `prompt.md`.\n",
       "2. `main.py` generates code based on the prompt.\n",
       "3. Human runs/reads the code.\n",
       "4. Human can:\n",
       "   - Simply add to the prompt as they discover underspecified parts of the prompt.\n",
       "   - Manually run the code and identify errors.\n",
       "   - Paste the error into the prompt just like they would file a GitHub issue.\n",
       "   - For extra help, they can use `debugger.py` which reads the whole codebase to make specific code change suggestions.\n",
       "5. Loop until happiness is attained.\n",
       "\n",
       "The smol developer uses prompts for whole program synthesis, which is a higher order evolution of programming where you still need to be technical, but no longer have to implement every detail at least to scaffold things out. The smol developer is not no code, not low code, but some third thing.\n",
       "\n",
       "## Installation\n",
       "\n",
       "To install the smol developer, follow these steps:\n",
       "\n",
       "1. Clone the repository: `git clone https://github.com/smol-ai/developer`.\n",
       "2. Copy over `.example.env` to `.env` filling in your API keys.\n",
       "3. There are no Python dependencies to wrangle thanks to using Modal as a self-provisioning runtime.\n",
       "4. Unfortunately, this project also uses 3 waitlisted things:\n",
       "   - Modal.com - `pip install modal-client` (private beta - hit up the modal team to get an invite, and login).\n",
       "   - You can run this project w/o Modal following these instructions:\n",
       "     - `pip install -r requirements.txt`\n",
       "     - `python main_no_modal.py YOUR_PROMPT_HERE`\n",
       "   - GPT-4 API (private beta) - can use 3.5 but obviously won't be as good.\n",
       "   - (for the demo project) anthropic claude 100k context API (private beta).\n",
       "5. You'll have to adapt this code on a fork if you want to use it on other infra. Please open issues/PRs, and I'll happily highlight your fork here.\n",
       "\n",
       "## Example Chrome Extension\n",
       "\n",
       "The `/generated` and `/exampleChromeExtension` folder contains a Chrome Manifest V3 extension that reads the current page and offers a popup UI that has the page title+content and a textarea for a prompt (with a default value we specify). When the user hits submit, it sends the page title+content to the Anthropic Claude API along with the up to date prompt to summarize it. The user can modify that prompt and re-send the prompt+content to get another summary view of the content.\n",
       "\n",
       "To try the example Chrome extension:\n",
       "\n",
       "1. Go to Manage Extensions in Chrome.\n",
       "2. Load unpacked.\n",
       "3. Find the relevant folder in your file system and load it.\n",
       "4. Go to any content-heavy site.\n",
       "5. Click the cute bird.\n",
       "6. See it work.\n",
       "\n",
       "This entire extension was generated by the prompt in `prompt.md` (except for the images) and was built up over time by adding more words to the prompt in an iterative process.\n",
       "\n",
       "## Smol Dev\n",
       "\n",
       "Basic usage:\n",
       "\n",
       "```bash\n",
       "modal run main.py --prompt \"a Chrome extension that, when clicked, opens a small window with a page where you can enter a prompt for reading the currently open page and generating some response from openai\"\n",
       "```\n",
       "\n",
       "After a while of adding to your prompt, you can extract your prompt to a file, as long as your \"prompt\" ends in a .md extension, we'll go look for that file.\n",
       "\n",
       "```bash\n",
       "modal run main.py --prompt prompt.md\n",
       "```\n",
       "\n",
       "Each time you run this, the generated directory is deleted (except for images), and all files are rewritten from scratch. \n",
       "\n",
       "In the `shared_dependencies.md` file is a helper file that ensures coherence between files."
      ],
      "text/plain": [
       "<IPython.core.display.Markdown object>"
      ]
     },
     "metadata": {},
     "output_type": "display_data"
    }
   ],
   "source": [
    "# for each unique score, print an example query and text\n",
    "\n",
    "for score in sorted(responses_df['score'].unique(), reverse=True):\n",
    "    print(f\"Score: {score}\")\n",
    "    entry = responses_df[responses_df['score'] == score].sample(1)\n",
    "    print(entry['query'].values[0])\n",
    "    display(Markdown(entry['text'].values[0]))"
   ]
  },
  {
   "cell_type": "code",
   "execution_count": null,
   "metadata": {},
   "outputs": [],
   "source": []
  }
 ],
 "metadata": {
  "kernelspec": {
   "display_name": "venv",
   "language": "python",
   "name": "python3"
  },
  "language_info": {
   "codemirror_mode": {
    "name": "ipython",
    "version": 3
   },
   "file_extension": ".py",
   "mimetype": "text/x-python",
   "name": "python",
   "nbconvert_exporter": "python",
   "pygments_lexer": "ipython3",
   "version": "3.10.1"
  },
  "orig_nbformat": 4
 },
 "nbformat": 4,
 "nbformat_minor": 2
}
