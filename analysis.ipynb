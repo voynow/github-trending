{
 "cells": [
  {
   "cell_type": "code",
   "execution_count": 17,
   "metadata": {},
   "outputs": [
    {
     "name": "stderr",
     "output_type": "stream",
     "text": [
      "C:\\Users\\voyno\\AppData\\Local\\Temp\\ipykernel_9532\\2554490496.py:3: MatplotlibDeprecationWarning: The seaborn styles shipped by Matplotlib are deprecated since 3.6, as they no longer correspond to the styles shipped by seaborn. However, they will remain available as 'seaborn-v0_8-<style>'. Alternatively, directly use the seaborn API instead.\n",
      "  plt.style.use('seaborn')\n"
     ]
    }
   ],
   "source": [
    "import pandas as pd\n",
    "import matplotlib.pyplot as plt\n",
    "plt.style.use('seaborn')\n",
    "\n",
    "from IPython.display import Markdown, display"
   ]
  },
  {
   "cell_type": "code",
   "execution_count": 18,
   "metadata": {},
   "outputs": [
    {
     "data": {
      "text/html": [
       "<div>\n",
       "<style scoped>\n",
       "    .dataframe tbody tr th:only-of-type {\n",
       "        vertical-align: middle;\n",
       "    }\n",
       "\n",
       "    .dataframe tbody tr th {\n",
       "        vertical-align: top;\n",
       "    }\n",
       "\n",
       "    .dataframe thead th {\n",
       "        text-align: right;\n",
       "    }\n",
       "</style>\n",
       "<table border=\"1\" class=\"dataframe\">\n",
       "  <thead>\n",
       "    <tr style=\"text-align: right;\">\n",
       "      <th></th>\n",
       "      <th>execution_time</th>\n",
       "      <th>input_data_length</th>\n",
       "      <th>output_data_length</th>\n",
       "    </tr>\n",
       "    <tr>\n",
       "      <th>chain_name</th>\n",
       "      <th></th>\n",
       "      <th></th>\n",
       "      <th></th>\n",
       "    </tr>\n",
       "  </thead>\n",
       "  <tbody>\n",
       "    <tr>\n",
       "      <th>RUN_QUERY_RAG</th>\n",
       "      <td>17.720794</td>\n",
       "      <td>6042.500000</td>\n",
       "      <td>810.416667</td>\n",
       "    </tr>\n",
       "    <tr>\n",
       "      <th>UPGRADE_QUERY</th>\n",
       "      <td>14.652915</td>\n",
       "      <td>88.363636</td>\n",
       "      <td>457.227273</td>\n",
       "    </tr>\n",
       "    <tr>\n",
       "      <th>CONTEXT_VALIDATOR</th>\n",
       "      <td>2.698103</td>\n",
       "      <td>5847.358025</td>\n",
       "      <td>2.000000</td>\n",
       "    </tr>\n",
       "  </tbody>\n",
       "</table>\n",
       "</div>"
      ],
      "text/plain": [
       "                   execution_time  input_data_length  output_data_length\n",
       "chain_name                                                              \n",
       "RUN_QUERY_RAG           17.720794        6042.500000          810.416667\n",
       "UPGRADE_QUERY           14.652915          88.363636          457.227273\n",
       "CONTEXT_VALIDATOR        2.698103        5847.358025            2.000000"
      ]
     },
     "execution_count": 18,
     "metadata": {},
     "output_type": "execute_result"
    }
   ],
   "source": [
    "chainlogs_df = pd.read_csv('data/eval_chainlogs.csv')\n",
    "\n",
    "disp_cols = [\"execution_time\"]\n",
    "for name in ['input_data', 'output_data']:\n",
    "    new_col = f'{name}_length'\n",
    "    chainlogs_df[new_col] = chainlogs_df[name].apply(lambda x: len(x))\n",
    "    disp_cols.append(new_col)\n",
    "\n",
    "chainlogs_df.groupby('chain_name')[disp_cols].mean().sort_values('execution_time', ascending=False)\n"
   ]
  },
  {
   "cell_type": "code",
   "execution_count": 19,
   "metadata": {},
   "outputs": [
    {
     "data": {
      "image/png": "[encoded data removed]",
      "text/plain": [
       "<Figure size 800x550 with 1 Axes>"
      ]
     },
     "metadata": {},
     "output_type": "display_data"
    },
    {
     "name": "stdout",
     "output_type": "stream",
     "text": [
      "Average score grouped by query\n"
     ]
    },
    {
     "data": {
      "text/plain": [
       "query\n",
       "Can my junior dev create a website?    90.000000\n",
       "Explain this to me like I'm 5.         63.333333\n",
       "What does this do?                     96.666667\n",
       "What is the point of the .env file?    93.333333\n",
       "Name: score, dtype: float64"
      ]
     },
     "metadata": {},
     "output_type": "display_data"
    }
   ],
   "source": [
    "responses_df = pd.read_csv('data/eval_responses.csv')\n",
    "\n",
    "plt.hist(responses_df['score'], bins=12)\n",
    "plt.xlabel('Score')\n",
    "plt.ylabel('Count')\n",
    "plt.title('Distribution of Scores across all Queries')\n",
    "plt.show()\n",
    "\n",
    "print(\"Average score grouped by query\")\n",
    "display(responses_df.groupby('query')['score'].mean())"
   ]
  },
  {
   "cell_type": "code",
   "execution_count": 20,
   "metadata": {},
   "outputs": [
    {
     "name": "stdout",
     "output_type": "stream",
     "text": [
      "Score: 100\n",
      "What is the point of the .env file?\n"
     ]
    },
    {
     "data": {
      "text/markdown": [
       "The .env file in the smol-ai/developer repository is used to store API keys for Modal, GPT-4, and Anthropoc Claude 100k Context API. It is necessary to copy over the .example.env file and fill in the API keys to use the project. The project is a prototype of a \"junior developer\" agent that scaffolds an entire codebase out for the user once they give it a product spec. The codebase is simple, safe, and less than 200 lines of Python and Prompts. The project uses prompts for engineering, rather than prompt engineering. The AI is only used as long as it is adding value, and the user can take over the codebase from the \"smol dev\" with no fuss and no hurt feelings."
      ],
      "text/plain": [
       "<IPython.core.display.Markdown object>"
      ]
     },
     "metadata": {},
     "output_type": "display_data"
    },
    {
     "name": "stdout",
     "output_type": "stream",
     "text": [
      "Score: 90\n",
      "Can my junior dev create a website?\n"
     ]
    },
    {
     "data": {
      "text/markdown": [
       "To efficiently and effectively create a website using the smol-ai/developer repository, a junior developer can leverage the \"smol dev\" agent that scaffolds an entire codebase based on a product spec. This prototype AI-enabled workflow is human-centric and allows for customization and understanding with less than 200 lines of Python and Prompts. The developer can write a basic prompt for the app they want to build, generate code with main.py, run/read the code, and add to the prompt as they discover underspecified parts. The AI is only used as long as it adds value, and the developer can take over the codebase from the \"smol dev\" with no fuss. The repository requires Modal.com, GPT-4 API, and anthropic claude 100k context API, which are private beta, but the code can be adapted on a fork for other infrastructures. The repository also discusses potential challenges such as dependency management and self-healing."
      ],
      "text/plain": [
       "<IPython.core.display.Markdown object>"
      ]
     },
     "metadata": {},
     "output_type": "display_data"
    },
    {
     "name": "stdout",
     "output_type": "stream",
     "text": [
      "Score: 50\n",
      "Explain this to me like I'm 5.\n"
     ]
    },
    {
     "data": {
      "text/markdown": [
       "This github repository contains a prototype for a \"junior developer\" agent that scaffolds an entire codebase based on a product spec. It is designed to be helpful, harmless, and honest, and is complemented by a codebase that is simple, safe, and small. The program uses prompts to generate code, and the user can manually run and read the code, add to the prompt, and paste error messages into the prompt. The program is not no code or low code, but rather a third thing that still requires technical knowledge. The repository also includes a video demo and an arch diagram. The program is a Chrome extension that summarizes web pages using the Anthropic Claude API and uses a combination of JavaScript, HTML, and CSS to provide a user-friendly interface."
      ],
      "text/plain": [
       "<IPython.core.display.Markdown object>"
      ]
     },
     "metadata": {},
     "output_type": "display_data"
    }
   ],
   "source": [
    "# for each unique score, print an example query and text\n",
    "\n",
    "for score in sorted(responses_df['score'].unique(), reverse=True):\n",
    "    print(f\"Score: {score}\")\n",
    "    entry = responses_df[responses_df['score'] == score].sample(1)\n",
    "    print(entry['query'].values[0])\n",
    "    display(Markdown(entry['text'].values[0]))"
   ]
  },
  {
   "cell_type": "code",
   "execution_count": null,
   "metadata": {},
   "outputs": [],
   "source": []
  }
 ],
 "metadata": {
  "kernelspec": {
   "display_name": "venv",
   "language": "python",
   "name": "python3"
  },
  "language_info": {
   "codemirror_mode": {
    "name": "ipython",
    "version": 3
   },
   "file_extension": ".py",
   "mimetype": "text/x-python",
   "name": "python",
   "nbconvert_exporter": "python",
   "pygments_lexer": "ipython3",
   "version": "3.10.1"
  },
  "orig_nbformat": 4
 },
 "nbformat": 4,
 "nbformat_minor": 2
}
