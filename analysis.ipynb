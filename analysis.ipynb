{
 "cells": [
  {
   "cell_type": "code",
   "execution_count": 1,
   "metadata": {},
   "outputs": [
    {
     "name": "stderr",
     "output_type": "stream",
     "text": [
      "C:\\Users\\voyno\\AppData\\Local\\Temp\\ipykernel_19428\\2554490496.py:3: MatplotlibDeprecationWarning: The seaborn styles shipped by Matplotlib are deprecated since 3.6, as they no longer correspond to the styles shipped by seaborn. However, they will remain available as 'seaborn-v0_8-<style>'. Alternatively, directly use the seaborn API instead.\n",
      "  plt.style.use('seaborn')\n"
     ]
    }
   ],
   "source": [
    "import pandas as pd\n",
    "import matplotlib.pyplot as plt\n",
    "plt.style.use('seaborn')\n",
    "\n",
    "from IPython.display import Markdown, display"
   ]
  },
  {
   "cell_type": "code",
   "execution_count": 2,
   "metadata": {},
   "outputs": [
    {
     "data": {
      "text/html": [
       "<div>\n",
       "<style scoped>\n",
       "    .dataframe tbody tr th:only-of-type {\n",
       "        vertical-align: middle;\n",
       "    }\n",
       "\n",
       "    .dataframe tbody tr th {\n",
       "        vertical-align: top;\n",
       "    }\n",
       "\n",
       "    .dataframe thead th {\n",
       "        text-align: right;\n",
       "    }\n",
       "</style>\n",
       "<table border=\"1\" class=\"dataframe\">\n",
       "  <thead>\n",
       "    <tr style=\"text-align: right;\">\n",
       "      <th></th>\n",
       "      <th>execution_time</th>\n",
       "      <th>input_data_length</th>\n",
       "      <th>output_data_length</th>\n",
       "    </tr>\n",
       "    <tr>\n",
       "      <th>chain_name</th>\n",
       "      <th></th>\n",
       "      <th></th>\n",
       "      <th></th>\n",
       "    </tr>\n",
       "  </thead>\n",
       "  <tbody>\n",
       "    <tr>\n",
       "      <th>RUN_QUERY_RAG</th>\n",
       "      <td>18.463330</td>\n",
       "      <td>6724.645833</td>\n",
       "      <td>883.500000</td>\n",
       "    </tr>\n",
       "    <tr>\n",
       "      <th>UPGRADE_QUERY</th>\n",
       "      <td>9.904642</td>\n",
       "      <td>95.495283</td>\n",
       "      <td>481.665094</td>\n",
       "    </tr>\n",
       "    <tr>\n",
       "      <th>CONTEXT_VALIDATOR</th>\n",
       "      <td>0.686279</td>\n",
       "      <td>6388.838372</td>\n",
       "      <td>2.000000</td>\n",
       "    </tr>\n",
       "  </tbody>\n",
       "</table>\n",
       "</div>"
      ],
      "text/plain": [
       "                   execution_time  input_data_length  output_data_length\n",
       "chain_name                                                              \n",
       "RUN_QUERY_RAG           18.463330        6724.645833          883.500000\n",
       "UPGRADE_QUERY            9.904642          95.495283          481.665094\n",
       "CONTEXT_VALIDATOR        0.686279        6388.838372            2.000000"
      ]
     },
     "execution_count": 2,
     "metadata": {},
     "output_type": "execute_result"
    }
   ],
   "source": [
    "chainlogs_df = pd.read_csv('eval_data/chainlogs.csv')\n",
    "\n",
    "disp_cols = [\"execution_time\"]\n",
    "for name in ['input_data', 'output_data']:\n",
    "    new_col = f'{name}_length'\n",
    "    chainlogs_df[new_col] = chainlogs_df[name].apply(lambda x: len(x))\n",
    "    disp_cols.append(new_col)\n",
    "\n",
    "chainlogs_df.groupby('chain_name')[disp_cols].mean().sort_values('execution_time', ascending=False)\n"
   ]
  },
  {
   "cell_type": "code",
   "execution_count": 5,
   "metadata": {},
   "outputs": [
    {
     "data": {
      "image/png": "[encoded data removed]",
      "text/plain": [
       "<Figure size 800x550 with 1 Axes>"
      ]
     },
     "metadata": {},
     "output_type": "display_data"
    },
    {
     "name": "stdout",
     "output_type": "stream",
     "text": [
      "Average score grouped by query\n"
     ]
    },
    {
     "data": {
      "text/plain": [
       "query\n",
       "What does this do?                                                90.000000\n",
       "What is the point of the .env file?                               88.333333\n",
       "Can my junior dev create a website?                               87.500000\n",
       "WHats the difference between code2prompt and code2prompt2code?    86.666667\n",
       "What is the high level workflow starting with main.py?            84.166667\n",
       "How do I use the debugger?                                        80.000000\n",
       "How do I use Claude here?                                         76.666667\n",
       "Explain this to me like I'm 5.                                    75.833333\n",
       "How can I improve main.py?                                        63.333333\n",
       "What architectural changes would make this better?                61.250000\n",
       "Give me basic python code to recreate this idea.                  60.000000\n",
       "How can we refactor to make this a CLI?                           44.166667\n",
       "Name: score, dtype: float64"
      ]
     },
     "metadata": {},
     "output_type": "display_data"
    }
   ],
   "source": [
    "responses_df = pd.read_csv('eval_data/responses.csv')\n",
    "\n",
    "plt.hist(responses_df['score'], bins=12)\n",
    "plt.xlabel('Score')\n",
    "plt.ylabel('Count')\n",
    "plt.title('Distribution of Scores across all Queries')\n",
    "plt.show()\n",
    "\n",
    "print(\"Average score grouped by query\")\n",
    "display(responses_df.groupby('query')['score'].mean().sort_values(ascending=False))"
   ]
  },
  {
   "cell_type": "code",
   "execution_count": 6,
   "metadata": {},
   "outputs": [
    {
     "name": "stdout",
     "output_type": "stream",
     "text": [
      "Score: 100\n",
      "Can my junior dev create a website?\n"
     ]
    },
    {
     "data": {
      "text/markdown": [
       "Yes, the smol-ai/developer repository contains a prototype of a \"junior developer\" agent called smol dev that can scaffold an entire codebase for you based on a product spec. This agent is designed to be helpful, harmless, and honest, and is complemented by a codebase that is simple, safe, and smol - <200 lines of Python and Prompts, so it is easy to understand and customize. The smol dev agent uses AI to generate code based on a prompt, which can be iteratively refined by the human developer until they are satisfied with the result. The generated code can be manually run and errors can be identified and fixed by the human developer, or they can use the debugger.py tool to make specific code change suggestions. The smol dev agent is not a no-code or low-code solution, but rather a higher order evolution of programming where you still need to be technical, but no longer have to implement every detail to scaffold things out. To use the smol dev agent, you can clone the repository and follow the installation instructions provided in the README file."
      ],
      "text/plain": [
       "<IPython.core.display.Markdown object>"
      ]
     },
     "metadata": {},
     "output_type": "display_data"
    },
    {
     "name": "stdout",
     "output_type": "stream",
     "text": [
      "Score: 90\n",
      "What is the point of the .env file?\n"
     ]
    },
    {
     "data": {
      "text/markdown": [
       "The .env file in the smol-ai/developer repository is used to store API keys for Modal, GPT-4, and Anthropocene Claude 100k Context API. It is necessary to copy over the .example.env file and fill in the API keys to use the project. The project does not have any Python dependencies to manage thanks to the use of Modal as a self-provisioning runtime. The project is a prototype of a \"junior developer\" agent that scaffolds an entire codebase out for the user once they give it a product spec. The AI is only used as long as it is adding value, and the user can take over the codebase from the \"smol dev\" with no fuss and no hurt feelings."
      ],
      "text/plain": [
       "<IPython.core.display.Markdown object>"
      ]
     },
     "metadata": {},
     "output_type": "display_data"
    },
    {
     "name": "stdout",
     "output_type": "stream",
     "text": [
      "Score: 85\n",
      "What architectural changes would make this better?\n"
     ]
    },
    {
     "data": {
      "text/markdown": [
       "To better integrate with other systems and technologies, architectural modifications could include containerization with Docker or Nix to avoid dependency issues. Additionally, self-healing capabilities could be implemented by running the code and using errors as information for reprompting. The use of anthropic as the coding layer is possible but may require further development. Another suggestion is to create agents that autonomously run the code and regenerate it on new git branches. The repository emphasizes a human-centric and coherent whole program synthesis approach, using prompts to generate code and allowing for manual adjustments as needed. The codebase is designed to be simple, safe, and small, with a focus on AI that is helpful, harmless, and honest."
      ],
      "text/plain": [
       "<IPython.core.display.Markdown object>"
      ]
     },
     "metadata": {},
     "output_type": "display_data"
    },
    {
     "name": "stdout",
     "output_type": "stream",
     "text": [
      "Score: 80\n",
      "How do I use the debugger?\n"
     ]
    },
    {
     "data": {
      "text/markdown": [
       "To effectively use the debugger in the smol-ai/developer repository, you can use the `debugger.py` script which reads the entire codebase to make specific code change suggestions. You can feed in an error and get a response, taking advantage of longer context so there is no need to embed the source. Additionally, you can use the `code2prompt.py` script to get a prompt back that could synthesize the whole program. The `smol dev` agent scaffolds an entire codebase out for you once you give it a product spec, and you can manually run and identify errors, or paste the error into the prompt just like filing a Github issue. Loop until happiness is attained. The codebase is simple, safe, and smol - <200 lines of Python and Prompts, so it is easy to understand and customize. There are no python dependencies to wrangle thanks to using Modal as a self-provisioning runtime. To install, simply clone the repository and copy over `.example.env` to `.env` filling in your API keys."
      ],
      "text/plain": [
       "<IPython.core.display.Markdown object>"
      ]
     },
     "metadata": {},
     "output_type": "display_data"
    },
    {
     "name": "stdout",
     "output_type": "stream",
     "text": [
      "Score: 70\n",
      "How can I improve main.py?\n"
     ]
    },
    {
     "data": {
      "text/markdown": [
       "To improve the functionality of main.py in the smol-ai/developer repository, some best practices include dockerizing or using a web container to avoid dependency issues, implementing self-healing by running the code itself and using errors as information for reprompting, and making agents that autonomously run the code in a loop and regenerate code each time on a new git branch. Additionally, manually running the code and identifying errors, pasting the error into the prompt, and using debugger.py for specific code change suggestions can be helpful. The smol dev prototype can also be used to scaffold an entire codebase out by developing a scaffolding prompt in a tight loop with the smol dev. Future directions include specifying .md files for each generated file and the ability to install its own dependencies."
      ],
      "text/plain": [
       "<IPython.core.display.Markdown object>"
      ]
     },
     "metadata": {},
     "output_type": "display_data"
    },
    {
     "name": "stdout",
     "output_type": "stream",
     "text": [
      "Score: 50\n",
      "How can we refactor to make this a CLI?\n"
     ]
    },
    {
     "data": {
      "text/markdown": [
       "To convert the existing codebase into a command-line interface, you can use the \"smol developer\" agent in this repository. This agent scaffolds an entire codebase based on a product spec provided by the user. The codebase is generated using prompts and GPT-4, and can be fine-tuned by the user through a tight loop with the agent. The generated code can be run and read by the user, who can then add to the prompt as they discover underspecified parts of it. The agent is human-centric and aims to complement the user's technical abilities. Future directions for the agent include specifying .md files for each generated file, bootstrapping the prompt for existing codebases, and making agents that autonomously run the code in a loop."
      ],
      "text/plain": [
       "<IPython.core.display.Markdown object>"
      ]
     },
     "metadata": {},
     "output_type": "display_data"
    },
    {
     "name": "stdout",
     "output_type": "stream",
     "text": [
      "Score: 20\n",
      "How can we refactor to make this a CLI?\n"
     ]
    },
    {
     "data": {
      "text/markdown": [
       "Converting the codebase to a CLI can have potential benefits such as the ability to install its own dependencies and self-healing by running the code itself. However, this may lead to dependency issues and can be avoided by dockerizing or using Nix. Another possibility is to generate functions that speak modal to solve the dependency problem. Additionally, Markdown can be used to prompt for whole program synthesis and copy and paste programming can be used to teach the program to understand how to code around a new API. Debugging can be done by \"cat\"ing the whole codebase with the error message and getting specific fix suggestions. To achieve this efficiently, agents can be made to autonomously run the code in a loop and regenerate code each time on a new git branch. Future directions include specifying .md files for each generated file and bootstrapping the prompt.md for existing codebases. Smol developer is a prototype of a \"junior developer\" agent that scaffolds an entire codebase out for you once you give it a product spec."
      ],
      "text/plain": [
       "<IPython.core.display.Markdown object>"
      ]
     },
     "metadata": {},
     "output_type": "display_data"
    },
    {
     "name": "stdout",
     "output_type": "stream",
     "text": [
      "Score: 10\n",
      "What architectural changes would make this better?\n"
     ]
    },
    {
     "data": {
      "text/markdown": [
       "The current architecture of the code repository can be improved in several ways to enhance its usability and functionality. One approach is to dockerize or use Nix to avoid leaking dependencies into the execution environment. Another option is to use Modal to generate functions that speak modal and solve the dependency issue. Self-healing can also be implemented by running the code itself and using errors as information for reprompting. Anthropics can be used as the coding layer, but it doesn't work well in generating file code. Agents can be created to autonomously run the code in a loop and regenerate code on a new git branch. Additionally, the use of Markdown is recommended for prompting whole program synthesis, and copy and paste programming can be used to teach the program how to code around a new API. Debugging can be done by catting the whole codebase with the error message and getting specific fix suggestions. The codebase should be simple, safe, and smol, and engineering with prompts is recommended."
      ],
      "text/plain": [
       "<IPython.core.display.Markdown object>"
      ]
     },
     "metadata": {},
     "output_type": "display_data"
    },
    {
     "name": "stdout",
     "output_type": "stream",
     "text": [
      "Score: 0\n",
      "Give me basic python code to recreate this idea.\n"
     ]
    },
    {
     "data": {
      "text/markdown": [
       "Based on the information provided in the repository, it appears that the goal of the \"smol developer\" project is to create a human-centric and coherent whole program synthesis tool that can scaffold an entire codebase based on a product spec. The tool uses AI to generate code based on prompts provided by the user, and the user can manually run the code and identify errors, which can then be pasted back into the prompt for further refinement. The tool is designed to be easy to understand and customize, with a codebase of less than 200 lines of Python and prompts. To use the tool, the user would need to clone the repository and fill in their API keys. There are no Python dependencies to worry about, thanks to the use of Modal as a self-provisioning runtime. However, the project does use several private beta APIs, including Modal.com, GPT-4, and Anthropoc Claude 100k context API. The project also includes a Chrome extension example. Future directions for the project include specifying .md files for each generated file, bootstrapping the prompt.md for existing codebases, and making the tool able to install its own dependencies."
      ],
      "text/plain": [
       "<IPython.core.display.Markdown object>"
      ]
     },
     "metadata": {},
     "output_type": "display_data"
    }
   ],
   "source": [
    "# for each unique score, print an example query and text\n",
    "\n",
    "for score in sorted(responses_df['score'].unique(), reverse=True):\n",
    "    print(f\"Score: {score}\")\n",
    "    entry = responses_df[responses_df['score'] == score].sample(1)\n",
    "    print(entry['query'].values[0])\n",
    "    display(Markdown(entry['text'].values[0]))"
   ]
  },
  {
   "cell_type": "code",
   "execution_count": null,
   "metadata": {},
   "outputs": [],
   "source": []
  }
 ],
 "metadata": {
  "kernelspec": {
   "display_name": "venv",
   "language": "python",
   "name": "python3"
  },
  "language_info": {
   "codemirror_mode": {
    "name": "ipython",
    "version": 3
   },
   "file_extension": ".py",
   "mimetype": "text/x-python",
   "name": "python",
   "nbconvert_exporter": "python",
   "pygments_lexer": "ipython3",
   "version": "3.10.1"
  },
  "orig_nbformat": 4
 },
 "nbformat": 4,
 "nbformat_minor": 2
}
