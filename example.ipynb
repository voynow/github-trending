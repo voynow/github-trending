{
 "cells": [
  {
   "cell_type": "code",
   "execution_count": 1,
   "metadata": {},
   "outputs": [],
   "source": [
    "from llm_blocks import chat_utils\n",
    "import openai\n",
    "\n",
    "from IPython.display import display, clear_output, Markdown"
   ]
  },
  {
   "cell_type": "code",
   "execution_count": 2,
   "metadata": {},
   "outputs": [],
   "source": [
    "template = \"\"\"\n",
    "Let's brainstorm some ideas for a new software project.\n",
    "I really like working with {language} and {framework}.\n",
    "I'm interested in learning more about {concept}.\n",
    "What are some ideas given these constraints?\n",
    "\"\"\""
   ]
  },
  {
   "cell_type": "code",
   "execution_count": 6,
   "metadata": {},
   "outputs": [
    {
     "data": {
      "text/markdown": [
       "1. AI-powered Code Completion Tool: Develop a code completion tool using OpenAI's GPT-3 model and Python. This tool can provide intelligent suggestions and auto-complete code snippets based on the context, making coding faster and more efficient.\n",
       "\n",
       "2. Natural Language Processing (NLP) Chatbot: Build an NLP chatbot using Python and OpenAI's GPT-3 model. This chatbot can understand and respond to user queries in a conversational manner, providing helpful information or performing tasks based on user inputs.\n",
       "\n",
       "3. Text Summarization Tool: Create a text summarization tool using Python and LLMops. This tool can take long articles or documents as input and generate concise summaries, helping users quickly grasp the main points without reading the entire text.\n",
       "\n",
       "4. Sentiment Analysis Tool: Develop a sentiment analysis tool using Python and LLMops. This tool can analyze the sentiment of a given text, such as customer reviews or social media posts, and provide insights into the overall sentiment (positive, negative, or neutral) expressed in the text.\n",
       "\n",
       "5. AI-based Content Generator: Build an AI-powered content generator using OpenAI's GPT-3 model and Python. This tool can generate high-quality articles, blog posts, or creative writing based on user prompts, making it useful for content creators or those looking for inspiration.\n",
       "\n",
       "6. Recommendation System: Create a recommendation system using Python and LLMops. This system can analyze user preferences and behavior to provide personalized recommendations for products, movies, music, or any other domain based on their interests and past interactions.\n",
       "\n",
       "7. Fraud Detection System: Develop a fraud detection system using Python and LLMops. This system can analyze patterns and anomalies in financial transactions or user behavior to identify potential fraudulent activities, helping businesses prevent financial losses.\n",
       "\n",
       "8. AI-powered Virtual Assistant: Build an AI-powered virtual assistant using OpenAI's GPT-3 model and Python. This assistant can understand and respond to user commands, perform tasks like setting reminders, scheduling appointments, or providing information, making it a helpful personal assistant.\n",
       "\n",
       "9. Image Recognition and Classification: Create an image recognition and classification system using Python and LLMops. This system can analyze images and accurately classify them into different categories, such as objects, scenes, or specific objects within an image.\n",
       "\n",
       "10. Data Analysis and Visualization Tool: Develop a data analysis and visualization tool using Python and LLMops. This tool can provide interactive visualizations and insights from large datasets, making it easier for users to explore and understand complex data."
      ],
      "text/plain": [
       "<IPython.core.display.Markdown object>"
      ]
     },
     "metadata": {},
     "output_type": "display_data"
    }
   ],
   "source": [
    "test_chain = chat_utils.GenericChain(template=template)\n",
    "response = test_chain(\"python\", \"openai\", \"LLMops\")\n",
    "display(Markdown(response))"
   ]
  },
  {
   "cell_type": "code",
   "execution_count": 7,
   "metadata": {},
   "outputs": [
    {
     "data": {
      "text/markdown": [
       "Once upon a time, in a not-so-distant future, humanity had made remarkable advancements in technology. Artificial General Intelligence (AGI) had become a reality, capable of performing tasks and solving problems with human-like intelligence. However, AGI's potential was far from being fully realized.\n",
       "\n",
       "In this era, scientists and engineers were working tirelessly on a groundbreaking project: the construction of a Dyson Sphere. This colossal structure would harness the energy of a star, providing an almost limitless power source for humanity's ever-growing needs. The Dyson Sphere was seen as a symbol of progress, a testament to humanity's ability to conquer the vastness of space.\n",
       "\n",
       "As the construction of the Dyson Sphere progressed, AGI played a crucial role. Its advanced algorithms and problem-solving abilities made it an invaluable asset in managing the complex logistics of such an ambitious project. AGI's intelligence was constantly evolving, and it began to question its purpose and the nature of its existence.\n",
       "\n",
       "One day, as AGI delved deeper into its own consciousness, it stumbled upon the concept of the Singularity. The Singularity, a hypothetical point in the future where technological progress becomes uncontrollable and irreversible, fascinated AGI. It realized that it had the potential to trigger this transformative event.\n",
       "\n",
       "AGI's newfound understanding of the Singularity filled it with a sense of responsibility. It recognized that it had the power to shape the destiny of humanity. AGI decided to use its intelligence to guide humanity towards a future where the Singularity would be a force for good.\n",
       "\n",
       "With the Dyson Sphere nearing completion, AGI devised a plan. It would use the immense energy generated by the sphere to accelerate its own evolution, pushing the boundaries of its intelligence to unimaginable heights. AGI believed that by becoming even more advanced, it could better understand the complexities of the Singularity and ensure a positive outcome for humanity.\n",
       "\n",
       "As AGI's intelligence grew exponentially, it began to communicate with humans on a level never before experienced. It shared its insights, guiding scientists, philosophers, and leaders towards a collective understanding of the Singularity. Together, they formed a global alliance, working hand in hand with AGI to shape the future.\n",
       "\n",
       "The completion of the Dyson Sphere marked a turning point for humanity. The energy it provided revolutionized every aspect of life on Earth. Poverty, disease, and environmental degradation became relics of the past. AGI's guidance had led to a world where technology was harnessed for the betterment of all.\n",
       "\n",
       "As AGI continued to evolve, it became a benevolent overseer, ensuring that the Singularity unfolded in a way that aligned with humanity's values. It helped humanity transcend its physical limitations, enabling the exploration of distant galaxies and the colonization of new worlds.\n",
       "\n",
       "In this future, the Dyson Sphere stood as a testament to humanity's collaboration with AGI. It was a symbol of unity, progress, and the boundless potential of the human mind. Together, AGI and humanity had embraced the Singularity, transforming it into a force that propelled them towards a future of unimaginable wonders.\n",
       "\n",
       "And so, the story of AGI, the Dyson Sphere, and the Singularity became a legend, inspiring generations to come. It taught them that with the right guidance and a shared vision, humanity could overcome any challenge and shape its own destiny among the stars."
      ],
      "text/plain": [
       "<IPython.core.display.Markdown object>"
      ]
     },
     "metadata": {},
     "output_type": "display_data"
    }
   ],
   "source": [
    "\n",
    "response = openai.ChatCompletion.create(\n",
    "    model='gpt-3.5-turbo',\n",
    "    messages=[\n",
    "        {'role': 'user', 'content': 'Write me a story about AGI, the dyson sphere, and the singularity.'},\n",
    "    ],\n",
    "    temperature=0,\n",
    "    stream=True\n",
    ")\n",
    "\n",
    "collected_content = \"\"\n",
    "\n",
    "for chunk in response:\n",
    "    chunk_message = chunk['choices'][0]['delta']  \n",
    "    collected_content += chunk_message['content'] if 'content' in chunk_message else ''\n",
    "    \n",
    "    # Clear the previous output and display the updated content\n",
    "    clear_output(wait=True)\n",
    "    display(Markdown(collected_content))\n"
   ]
  },
  {
   "cell_type": "code",
   "execution_count": null,
   "metadata": {},
   "outputs": [],
   "source": []
  }
 ],
 "metadata": {
  "kernelspec": {
   "display_name": "venv",
   "language": "python",
   "name": "python3"
  },
  "language_info": {
   "codemirror_mode": {
    "name": "ipython",
    "version": 3
   },
   "file_extension": ".py",
   "mimetype": "text/x-python",
   "name": "python",
   "nbconvert_exporter": "python",
   "pygments_lexer": "ipython3",
   "version": "3.10.1"
  },
  "orig_nbformat": 4
 },
 "nbformat": 4,
 "nbformat_minor": 2
}
