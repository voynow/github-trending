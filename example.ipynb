{
 "cells": [
  {
   "cell_type": "code",
   "execution_count": 1,
   "metadata": {},
   "outputs": [
    {
     "name": "stderr",
     "output_type": "stream",
     "text": [
      "c:\\Users\\voyno\\Desktop\\code\\repos\\repo-chat\\venv\\lib\\site-packages\\pinecone\\index.py:4: TqdmExperimentalWarning: Using `tqdm.autonotebook.tqdm` in notebook mode. Use `tqdm.tqdm` instead to force console mode (e.g. in jupyter console)\n",
      "  from tqdm.autonotebook import tqdm\n"
     ]
    }
   ],
   "source": [
    "import repo_chat.git2vectors as git2vectors\n",
    "from repo_chat.chat_utils import RetrievalChain"
   ]
  },
  {
   "cell_type": "code",
   "execution_count": 2,
   "metadata": {},
   "outputs": [],
   "source": [
    "# Create vectorstore, this will take a while\n",
    "repo = \"https://github.com/smol-ai/developer\"\n",
    "git2vectors.create_vectorstore(repo)\n",
    "\n",
    "# load vectorstore, this is fas\n",
    "vectorstore = git2vectors.get_vectorstore()"
   ]
  },
  {
   "cell_type": "code",
   "execution_count": 5,
   "metadata": {},
   "outputs": [
    {
     "name": "stdout",
     "output_type": "stream",
     "text": [
      "How do I use this?\n",
      "Inadequate context. The documents provided do not mention a specific code repository or provide any information on how to use it.\n",
      "['modal-client\\r\\nopenai\\r\\ntiktoken', 'body {\\r\\n  font-family: Arial, sans-serif;\\r\\n  margin: 0;\\r\\n  padding: 15px;\\r\\n}\\r\\n\\r\\ntextarea, input {\\r\\n  display: block;\\r\\n  width: 100%;\\r\\n  margin-bottom: 10px;\\r\\n  padding: 5px;\\r\\n  font-size: 14px;\\r\\n}\\r\\n\\r\\nbutton {\\r\\n  background-color: #4CAF50;\\r\\n  border: none;\\r\\n  color: white;\\r\\n  padding: 10px 20px;\\r\\n  text-align: center;\\r\\n  text-decoration: none;\\r\\n  display: inline-block;\\r\\n  font-size: 14px;\\r\\n  margin: 10px 0;\\r\\n  cursor: pointer;\\r\\n}\\r\\n\\r\\nbutton:hover {\\r\\n  background-color: #45a049;\\r\\n}\\r\\n\\r\\n#content {\\r\\n  margin-top: 20px;\\r\\n  font-size: 14px;\\r\\n  line-height: 1.5;\\r\\n}\\r\\n\\r\\n#loadingIndicator {\\r\\n  display: none;\\r\\n  font-size: 14px;\\r\\n  color: #999;\\r\\n}', '<!DOCTYPE html>\\r\\n<html lang=\"en\">\\r\\n<head>\\r\\n  <meta charset=\"UTF-8\">\\r\\n  <meta name=\"viewport\" content=\"width=device-width, initial-scale=1.0\">\\r\\n  <title>Anthropic Summary</title>\\r\\n  <link rel=\"stylesheet\" href=\"styles.css\">\\r\\n</head>\\r\\n<body>\\r\\n  <div id=\"content\"></div>\\r\\n  <div id=\"loadingIndicator\"></div>\\r\\n  <textarea id=\"userPrompt\"></textarea>\\r\\n  <button id=\"sendButton\">Submit</button>\\r\\n  <script src=\"popup.js\"></script>\\r\\n</body>\\r\\n</html>', '<!DOCTYPE html>\\r\\n<html lang=\"en\">\\r\\n<head>\\r\\n    <meta charset=\"UTF-8\">\\r\\n    <meta name=\"viewport\" content=\"width=device-width, initial-scale=1.0\">\\r\\n    <title>Anthropic Claude Summary Extension</title>\\r\\n    <link rel=\"stylesheet\" href=\"styles.css\">\\r\\n</head>\\r\\n<body>\\r\\n    <form>\\r\\n        <label for=\"userPrompt\">User Prompt:</label>\\r\\n        <textarea id=\"userPrompt\"></textarea>\\r\\n        <label for=\"stylePrompt\">Style Prompt:</label>\\r\\n        <textarea id=\"stylePrompt\"></textarea>\\r\\n        <label for=\"maxTokens\">Max Tokens:</label>\\r\\n        <input type=\"number\" id=\"maxTokens\">\\r\\n        <button type=\"button\" id=\"sendButton\">Request Summary</button>\\r\\n    </form>\\r\\n    <div id=\"content\"></div>\\r\\n    <div id=\"loadingIndicator\" style=\"display:none;\"></div>\\r\\n    <script src=\"popup.js\"></script>\\r\\n</body>\\r\\n</html>', '- at the bottom of the popup, show a vertically resizable form that has:\\r\\n      - a 2 line textarea with an id and label of `userPrompt`\\r\\n        - `userPrompt` has a default value of\\r\\n            ```js\\r\\n            defaultPrompt = `Please provide a detailed, easy to read HTML summary of the given content`;\\r\\n            ```js\\r\\n      - a 4 line textarea with an id and label of `stylePrompt`\\r\\n        - `stylePrompt` has a default value of\\r\\n            ```js\\r\\n            defaultStyle = `Respond with 3-4 highlights per section with important keywords, people, numbers, and facts bolded in this HTML format:\\r\\n            \\r\\n            <h1>{title here}</h1>\\r\\n            <h3>{section title here}</h3>\\r\\n            <details>\\r\\n              <summary>{summary of the section with <strong>important keywords, people, numbers, and facts bolded</strong> and key quotes repeated}</summary>\\r\\n              <ul>\\r\\n                <li><strong>{first point}</strong>: {short explanation with <strong>important keywords, people, numbers, and facts bolded</strong>}</li>\\r\\n                <li><strong>{second point}</strong>: {same as above}</li>\\r\\n                <li><strong>{third point}</strong>: {same as above}</li>\\r\\n                <!-- a fourth point if warranted -->\\r\\n              </ul>\\r\\n            </details>\\r\\n            <h3>{second section here}</h3>\\r\\n            <p>{summary of the section with <strong>important keywords, people, numbers, and facts bolded</strong> and key quotes repeated}</p>\\r\\n            <details>']\n",
      "[0.750293195, 0.747532487, 0.74651742, 0.742360473, 0.741796]\n",
      "Tokens Used: 1191\n",
      "\tPrompt Tokens: 1166\n",
      "\tCompletion Tokens: 25\n",
      "Successful Requests: 1\n",
      "Total Cost (USD): $0.002382\n"
     ]
    }
   ],
   "source": [
    "# Create an instance of the class\n",
    "chain = RetrievalChain(vectorstore)\n",
    "\n",
    "# Let's say we have a query\n",
    "query = \"How do I use this?\"\n",
    "\n",
    "# generic retrieval query\n",
    "response = chain.chat(query)\n",
    "\n",
    "print(response['query'])\n",
    "print(response['text'])\n",
    "print(response['similar_documents'])\n",
    "print(response['scores'])\n",
    "print(response['callback'])"
   ]
  },
  {
   "cell_type": "code",
   "execution_count": 6,
   "metadata": {},
   "outputs": [
    {
     "name": "stdout",
     "output_type": "stream",
     "text": [
      "What are the steps to use this code repository?\n",
      "To use this code repository, you need to clone the repository using the command \"git clone https://github.com/smol-ai/developer\" and copy over the \".example.env\" file to \".env\" while filling in your API keys. There are no Python dependencies to manage thanks to using Modal as a self-provisioning runtime. However, this project uses three waitlisted things: Modal.com, GPT-4 API, and Anthropics Claude 100k context API. You can run this project without Modal by following the instructions in the documentation. Once you have set up the repository, you can prompt for whole program synthesis using Markdown and copy-paste programming. You can also debug the codebase using the \"debugger.py\" script, which reads the entire codebase to make specific code change suggestions.\n",
      "[\"- simply add to the prompt as they discover underspecified parts of the prompt\\r\\n  - manually runs the code and identifies errors\\r\\n  - *paste the error into the prompt* just like they would file a github issue\\r\\n  - for extra help, they can use `debugger.py` which reads the whole codebase to make specific code change suggestions\\r\\n\\r\\nLoop until happiness is attained. Notice that AI is only used as long as it is adding value - once it gets in your way, just take over the codebase from your smol junior developer with no fuss and no hurt feelings. (*we could also have smol-dev take over an existing codebase and bootstrap its own prompt... but that's a Future Direction*)\\r\\n\\r\\n*Not no code, not low code, but some third thing.* \\r\\n\\r\\nPerhaps a higher order evolution of programming where you still need to be technical, but no longer have to implement every detail at least to scaffold things out.\\r\\n\\r\\n## video demo\\r\\n\\r\\n[![https://i3.ytimg.com/vi/UCo7YeTy-aE/hqdefault.jpg](https://i3.ytimg.com/vi/UCo7YeTy-aE/hqdefault.jpg)](https://youtu.be/UCo7YeTy-aE)\\r\\n\\r\\n## arch diagram\\r\\n\\r\\nnaturally generated with gpt4, like [we did for babyagi](https://twitter.com/swyx/status/1648724820316786688)\\r\\n![image](https://github.com/smol-ai/developer/assets/6764957/f8fc68f4-77f6-43ee-852f-a35fb195430a)\\r\\n\\r\\n\\r\\n### innovations and insights\\r\\n\\r\\n> Please subscribe to https://latent.space/ for a fuller writeup and insights and reflections\", 'OPENAI_API_KEY=sk-xxxxxx\\r\\nANTHROPIC_API_KEY=sk-ant-api03-xxxxxx', '## install\\r\\n\\r\\nit\\'s basically: \\r\\n\\r\\n- `git clone https://github.com/smol-ai/developer`.\\r\\n- copy over `.example.env` to `.env` filling in your API keys.\\r\\n\\r\\nThere are no python dependencies to wrangle thanks to using Modal as a [self-provisioning runtime](https://www.google.com/search?q=self+provisioning+runtime).\\r\\n\\r\\nUnfortunately this project also uses 3 waitlisted things:\\r\\n\\r\\n- Modal.com - `pip install modal-client` (private beta - hit up the modal team to get an invite, and login)\\r\\n  - You can run this project w/o Modal following these instructions:\\r\\n  - `pip install -r requirements.txt`\\r\\n  - `python main_no_modal.py YOUR_PROMPT_HERE`\\r\\n- GPT-4 api (private beta) - can use 3.5 but obviously wont be as good\\r\\n- (for the demo project) anthropic claude 100k context api (private beta)\\r\\n\\r\\n> yes, the most important skill in being an ai engineer is social engineering to get off waitlists. Modal will let you in if you say the keyword \"swyx\"\\r\\n\\r\\nyou\\'ll have to adapt this code on a fork if you want to use it on other infra. please open issues/PRs and i\\'ll happily highlight your fork here.\\r\\n\\r\\n### trying the example chrome extension', 'modal-client\\r\\nopenai\\r\\ntiktoken', '- **Markdown is all you need** - Markdown is the perfect way to prompt for whole program synthesis because it is easy to mix english and code (whether `variable_names` or entire \\\\`\\\\`\\\\` code fenced code samples)\\r\\n  - turns out you can specify prompts in code in prompts and gpt4 obeys that to the letter\\r\\n- **Copy and paste programming**\\r\\n  - teaching the program to understand how to code around a new API (Anthropic\\'s API is after GPT3\\'s knowledge cutoff) by just pasting in the `curl` input and output\\r\\n  - pasting error messages into the prompt and vaguely telling the program how you\\'d like it handled. it kind of feels like \"logbook driven programming\".\\r\\n- **Debugging by `cat`ing** the whole codebase with your error message and getting specific fix suggestions - particularly delightful!\\r\\n- **Tricks for whole program coherence** - our chosen example usecase, Chrome extensions, have a lot of indirect dependencies across files. Any hallucination of cross dependencies causes the whole program to error. \\r\\n  - We solved this by adding an intermediate step asking GPT to think through `shared_dependencies.md`, and then insisting on using that in generating each file. This basically means GPT is able to talk to itself...\\r\\n  - ... but it\\'s not perfect, yet. `shared_dependencies.md` is sometimes not comperehensive in understanding what are hard dependencies between files. So we just solved it by specifying a specific `name` in the prompt. felt dirty at first but it works, and really it\\'s just clear unambiguous communication at the end of the day. \\r\\n  - see `prompt.md` for SOTA smol-dev prompting\\r\\n- **Low activation energy for unfamiliar APIs**']\n",
      "[0.780169547, 0.767766118, 0.766435385, 0.763682902, 0.759748578]\n",
      "Tokens Used: 1389\n",
      "\tPrompt Tokens: 1225\n",
      "\tCompletion Tokens: 164\n",
      "Successful Requests: 1\n",
      "Total Cost (USD): $0.0027780000000000005\n"
     ]
    }
   ],
   "source": [
    "upgrade_template = \"\"\"A user has submitted the following query about some code repository:\n",
    "{query}\n",
    "\n",
    "The contents of this question will be used for document retrieval. The retrieved\n",
    "documents will be used to answer the question. Edit the query to improve the quality \n",
    "of the documents retrieved. Feel free to expand upon the question or ask multiple \n",
    "related questions if appropriate.\n",
    "\"\"\"\n",
    "\n",
    "# Create an instance of the class (with upgrade query)\n",
    "chain = RetrievalChain(\n",
    "    vectorstore, upgrade_template=upgrade_template)\n",
    "\n",
    "# Let's say we have a query\n",
    "query = \"How do I use this?\"\n",
    "\n",
    "# retrieval query with query upgrade augmentation\n",
    "response = chain.chat(query)\n",
    "\n",
    "print(response['query'])\n",
    "print(response['text'])\n",
    "print(response['similar_documents'])\n",
    "print(response['scores'])\n",
    "print(response['callback'])"
   ]
  },
  {
   "cell_type": "code",
   "execution_count": null,
   "metadata": {},
   "outputs": [],
   "source": []
  }
 ],
 "metadata": {
  "kernelspec": {
   "display_name": "venv",
   "language": "python",
   "name": "python3"
  },
  "language_info": {
   "codemirror_mode": {
    "name": "ipython",
    "version": 3
   },
   "file_extension": ".py",
   "mimetype": "text/x-python",
   "name": "python",
   "nbconvert_exporter": "python",
   "pygments_lexer": "ipython3",
   "version": "3.10.1"
  },
  "orig_nbformat": 4
 },
 "nbformat": 4,
 "nbformat_minor": 2
}
