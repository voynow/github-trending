{
 "cells": [
  {
   "cell_type": "code",
   "execution_count": 1,
   "metadata": {},
   "outputs": [
    {
     "name": "stderr",
     "output_type": "stream",
     "text": [
      "c:\\Users\\voyno\\Desktop\\code\\repos\\repo-chat\\venv\\lib\\site-packages\\pinecone\\index.py:4: TqdmExperimentalWarning: Using `tqdm.autonotebook.tqdm` in notebook mode. Use `tqdm.tqdm` instead to force console mode (e.g. in jupyter console)\n",
      "  from tqdm.autonotebook import tqdm\n"
     ]
    },
    {
     "name": "stdout",
     "output_type": "stream",
     "text": [
      "Fetching data from git repo...\n",
      "Clearing index testindex from previous runs...\n"
     ]
    },
    {
     "data": {
      "application/vnd.jupyter.widget-view+json": {
       "model_id": "dcf41ce017674874b3bf8c09f47deb1b",
       "version_major": 2,
       "version_minor": 0
      },
      "text/plain": [
       "  0%|          | 0/1125 [00:00<?, ?it/s]"
      ]
     },
     "metadata": {},
     "output_type": "display_data"
    },
    {
     "name": "stdout",
     "output_type": "stream",
     "text": [
      "Done!\n",
      "{'dimension': 1536,\n",
      " 'index_fullness': 0.1,\n",
      " 'namespaces': {'': {'vector_count': 4082}},\n",
      " 'total_vector_count': 4082}\n",
      "\n",
      "Query:\n",
      "What is this?\n",
      "\n",
      "Response:\n",
      "I'm sorry, I don't have enough context to understand what you are referring to. Could you please provide more information or context?\n",
      "\n",
      "Similarity Response:\n",
      "[(Document(page_content='Question: {question}\\r\\nAnswer:', metadata={'chunk': 0.0, 'filename': 'prompt_file.txt', 'filepath': 'tests\\\\unit_tests\\\\data\\\\prompt_file.txt'}), 0.792508543), (Document(page_content='** helppage|help-mediawiki\\r\\n* SEARCH\\r\\n* TOOLBOX</text>\\r\\n      <sha1>qqsu3aocmn2qji3pfn56y3pizazd8jv</sha1>\\r\\n    </revision>\\r\\n  </page>\\r\\n</mediawiki>', metadata={'chunk': 196.0, 'filename': 'testmw_pages_current.xml', 'filepath': 'docs\\\\modules\\\\indexes\\\\document_loaders\\\\examples\\\\example_data\\\\testmw_pages_current.xml'}), 0.760729671), (Document(page_content='Welcome to Test Wiki!\\r\\nTest pages: [[:Category:List of test pages]]\\r\\n\\r\\n== Hi ==\\r\\n\\r\\nYour admin request has been accepted. Please review [[Test Wiki:policy|our policy]].</text>\\r\\n      <sha1>29p8f7zj3e8daf9anvz6e8we1j1hiqo</sha1>\\r\\n    </revision>\\r\\n  </page>\\r\\n  <page>\\r\\n    <title>File:Test.jpg</title>\\r\\n    <ns>6</ns>\\r\\n    <id>159</id>\\r\\n    <revision>\\r\\n      <id>187</id>\\r\\n      <timestamp>2022-07-15T20:56:01Z</timestamp>\\r\\n      <contributor>\\r\\n        <username>LisafBia</username>\\r\\n        <id>51452174</id>\\r\\n      </contributor>\\r\\n      <origin>187</origin>\\r\\n      <model>wikitext</model>\\r\\n      <format>text/x-wiki</format>\\r\\n      <text bytes=\"35\" sha1=\"oeoxvuv33haffccevc2zo58q7cfgbas\" xml:space=\"preserve\">\\r\\n== Licensing ==\\r\\n{{From Wikimedia}}</text>\\r\\n      <sha1>oeoxvuv33haffccevc2zo58q7cfgbas</sha1>\\r\\n    </revision>\\r\\n  </page>\\r\\n  <page>\\r\\n    <title>File:Yes check.svg</title>\\r\\n    <ns>6</ns>\\r\\n    <id>160</id>\\r\\n    <revision>\\r\\n      <id>190</id>', metadata={'chunk': 118.0, 'filename': 'testmw_pages_current.xml', 'filepath': 'docs\\\\modules\\\\indexes\\\\document_loaders\\\\examples\\\\example_data\\\\testmw_pages_current.xml'}), 0.758553743), (Document(page_content='Tell me a {adjective} joke about {content}.', metadata={'chunk': 0.0, 'filename': 'simple_template.txt', 'filepath': 'docs\\\\modules\\\\prompts\\\\prompt_templates\\\\examples\\\\simple_template.txt'}), 0.754253566), (Document(page_content='Source: 4-pl\\r\\n=========\\r\\nFINAL ANSWER: This Agreement is governed by English law.\\r\\nSOURCES: 28-pl\\r\\n\\r\\nQUESTION: What did the president say about Michael Jackson?\\r\\n=========\\r\\nContent: Madam Speaker, Madam Vice President, our First Lady and Second Gentleman. Members of Congress and the Cabinet. Justices of the Supreme Court. My fellow Americans.  \\\\n\\\\nLast year COVID-19 kept us apart. This year we are finally together again. \\\\n\\\\nTonight, we meet as Democrats Republicans and Independents. But most importantly as Americans. \\\\n\\\\nWith a duty to one another to the American people to the Constitution. \\\\n\\\\nAnd with an unwavering resolve that freedom will always triumph over tyranny. \\\\n\\\\nSix days ago, Russia’s Vladimir Putin sought to shake the foundations of the free world thinking he could make it bend to his menacing ways. But he badly miscalculated. \\\\n\\\\nHe thought he could roll into Ukraine and the world would roll over. Instead he met a wall of strength he never imagined. \\\\n\\\\nHe met the Ukrainian people. \\\\n\\\\nFrom President Zelenskyy to every Ukrainian, their fearlessness, their courage, their determination, inspires the world. \\\\n\\\\nGroups of citizens blocking tanks with their bodies. Everyone from students to retirees teachers turned soldiers defending their homeland.\\r\\nSource: 0-pl', metadata={'chunk': 1.0, 'filename': 'stuff_prompt.py', 'filepath': 'langchain\\\\chains\\\\qa_with_sources\\\\stuff_prompt.py'}), 0.752226353)]\n"
     ]
    }
   ],
   "source": [
    "import rag_utils\n",
    "\n",
    "query = \"What is this?\"\n",
    "\n",
    "vectorstore = rag_utils.create_vectorstore()\n",
    "qa = rag_utils.get_retrieval_chain(vectorstore)\n",
    "\n",
    "similarity_resp = vectorstore.similarity_search_with_score(\n",
    "    query, k=5\n",
    ")\n",
    "response = qa.run(query)\n",
    "\n",
    "print(f\"\\nQuery:\\n{query}\")\n",
    "print(f\"\\nResponse:\\n{response}\")\n",
    "print(f\"\\nSimilarity Response:\\n{similarity_resp}\")"
   ]
  },
  {
   "cell_type": "code",
   "execution_count": null,
   "metadata": {},
   "outputs": [],
   "source": []
  }
 ],
 "metadata": {
  "kernelspec": {
   "display_name": "venv",
   "language": "python",
   "name": "python3"
  },
  "language_info": {
   "codemirror_mode": {
    "name": "ipython",
    "version": 3
   },
   "file_extension": ".py",
   "mimetype": "text/x-python",
   "name": "python",
   "nbconvert_exporter": "python",
   "pygments_lexer": "ipython3",
   "version": "3.10.1"
  },
  "orig_nbformat": 4
 },
 "nbformat": 4,
 "nbformat_minor": 2
}
