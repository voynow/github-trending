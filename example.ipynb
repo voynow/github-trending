{
 "cells": [
  {
   "cell_type": "code",
   "execution_count": 4,
   "metadata": {},
   "outputs": [],
   "source": [
    "from llm_blocks import chat_utils\n",
    "from git2vec import loader\n",
    "from IPython.display import display, Markdown"
   ]
  },
  {
   "cell_type": "code",
   "execution_count": 5,
   "metadata": {},
   "outputs": [],
   "source": [
    "repo_url = \"https://github.com/voynow/turbo-docs\"\n",
    "raw_repo_str = loader.load(repo_url, return_str=True)\n",
    "\n",
    "template = \"\"\"\n",
    "Given the following code from {repo_url}:\n",
    "{raw_repo_str}\n",
    "\n",
    "Can you create a readme file for this repo? Requirements:\n",
    "- Must be a markdown file\n",
    "- Include detialed instillation and quickstart instructions\n",
    "- List some ideas for contributions\n",
    "\"\"\""
   ]
  },
  {
   "cell_type": "code",
   "execution_count": 7,
   "metadata": {},
   "outputs": [
    {
     "data": {
      "text/markdown": [
       "# Turbo Docs\n",
       "\n",
       "Turbo Docs is a Python script that utilizes OpenAI's GPT API to generate README.md files and docstrings for your Python projects automatically.\n",
       "\n",
       "## Installation\n",
       "\n",
       "To use Turbo Docs, you can install it using pip:\n",
       "\n",
       "```bash\n",
       "pip install turbo_docs\n",
       "```\n",
       "\n",
       "## Quickstart\n",
       "\n",
       "To generate a README.md or docstrings for the current directory, you can run the `generate.py` script in the `turbo_docs` folder:\n",
       "\n",
       "```bash\n",
       "# command line interface\n",
       "turbo_docs [--copy] [--readme] [--docstring]\n",
       "```\n",
       "\n",
       "You can use the optional flags:\n",
       "- `--copy`: Copy the directory text to clipboard.\n",
       "- `--readme`: Generate README.md file.\n",
       "- `--docstring`: Generate and insert docstrings for each function.\n",
       "\n",
       "## Customization\n",
       "\n",
       "You can modify the files and directories that are excluded from the documentation generation by editing the `exclude.toml` file in the root of the repository. \n",
       "\n",
       "Example syntax to exclude requirements files:\n",
       "\n",
       "```toml\n",
       "exclude = [\n",
       "  \"requirements.*\"\n",
       "]\n",
       "```\n",
       "\n",
       "## Contributions\n",
       "\n",
       "Contributions are always welcome! Here are some ideas for contributions:\n",
       "\n",
       "- Add support for other programming languages\n",
       "- Improve the OpenAI API integration\n",
       "- Add support for generating documentation for specific functions or classes\n",
       "- Improve the documentation and examples\n",
       "\n",
       "Please open an issue or submit a pull request if you have any ideas or improvements to share."
      ],
      "text/plain": [
       "<IPython.core.display.Markdown object>"
      ]
     },
     "metadata": {},
     "output_type": "display_data"
    }
   ],
   "source": [
    "readme_chain = chat_utils.GenericChain(template=template)\n",
    "resp = readme_chain(repo_url=repo_url, raw_repo_str=raw_repo_str)\n",
    "display(Markdown(resp[\"text\"]))"
   ]
  },
  {
   "cell_type": "code",
   "execution_count": 9,
   "metadata": {},
   "outputs": [
    {
     "data": {
      "text/markdown": [
       "# Turbo Docs\n",
       "\n",
       "Turbo Docs is a Python script that utilizes OpenAI's GPT API to generate README.md files and docstrings for your Python projects automatically.\n",
       "\n",
       "## Requirements\n",
       "\n",
       "To use Turbo Docs, you will need to have the following Python packages installed:\n",
       "\n",
       "- setuptools\n",
       "- wheel\n",
       "- twine\n",
       "- requests\n",
       "- openai\n",
       "- click\n",
       "- pyperclip\n",
       "- redbaron\n",
       "- gitpython\n",
       "- toml\n",
       "\n",
       "You can install them using the requirements.txt and requirements.dev.txt files in the repository.\n",
       "\n",
       "## Installation\n",
       "\n",
       "To install Turbo Docs, follow these steps:\n",
       "\n",
       "1. Clone the repository:\n",
       "\n",
       "```bash\n",
       "git clone https://github.com/voynow/turbo-docs.git\n",
       "```\n",
       "\n",
       "2. Change to the `turbo-docs` directory:\n",
       "\n",
       "```bash\n",
       "cd turbo-docs\n",
       "```\n",
       "\n",
       "3. Install the required packages:\n",
       "\n",
       "```bash\n",
       "pip install -r requirements.txt\n",
       "pip install -r requirements.dev.txt\n",
       "```\n",
       "\n",
       "4. Install Turbo Docs:\n",
       "\n",
       "```bash\n",
       "python setup.py install\n",
       "```\n",
       "\n",
       "## Quickstart\n",
       "\n",
       "To generate a README.md or docstrings for the current directory, you can run the `turbo_docs` command:\n",
       "\n",
       "```bash\n",
       "turbo_docs [--copy] [--readme] [--docstring]\n",
       "```\n",
       "\n",
       "You can use the optional flags:\n",
       "- `--copy`: Copy the directory text to clipboard.\n",
       "- `--readme`: Generate README.md file.\n",
       "- `--docstring`: Generate and insert docstrings for each function.\n",
       "\n",
       "## Customization\n",
       "\n",
       "You can modify the files and directories that are excluded from the documentation generation by editing the `exclude.toml` file in the root of the repository. \n",
       "\n",
       "Example syntax to exclude requirements files:\n",
       "\n",
       "```toml\n",
       "exclude = [\n",
       "  \"requirements.*\"\n",
       "]\n",
       "```\n",
       "\n",
       "## Modules\n",
       "\n",
       "Turbo Docs consists of three main modules:\n",
       "\n",
       "1. `turbo_docs.commands.docstring`: Contains functions to generate docstrings for Python functions using GPT-3 text completion model.\n",
       "2. `turbo_docs.commands.readme`: Contains a function to generate a README.md file using the OpenAI API.\n",
       "3. `turbo_docs.utils`: Contains utility functions and decorators for working with CLI options, directories, and the OpenAI API.\n",
       "\n",
       "## Contributing\n",
       "\n",
       "Contributions are always welcome! If you have ideas for improvements or bug fixes, please open an issue or submit a pull request. Some ideas for contributions include:\n",
       "\n",
       "- Improving the quality of generated README.md files and docstrings.\n",
       "- Adding support for other programming languages.\n",
       "- Enhancing the customization options for excluding files and directories.\n",
       "- Implementing additional command-line options for more granular control over the generation process.\n",
       "- Improving error handling and user experience.\n"
      ],
      "text/plain": [
       "<IPython.core.display.Markdown object>"
      ]
     },
     "metadata": {},
     "output_type": "display_data"
    }
   ],
   "source": [
    "# example with a different model\n",
    "readme_chain = chat_utils.GenericChain(template=template, model_name=\"gpt-4\")\n",
    "resp = readme_chain(repo_url=repo_url, raw_repo_str=raw_repo_str)\n",
    "display(Markdown(resp[\"text\"]))"
   ]
  },
  {
   "cell_type": "code",
   "execution_count": null,
   "metadata": {},
   "outputs": [],
   "source": []
  }
 ],
 "metadata": {
  "kernelspec": {
   "display_name": "venv",
   "language": "python",
   "name": "python3"
  },
  "language_info": {
   "codemirror_mode": {
    "name": "ipython",
    "version": 3
   },
   "file_extension": ".py",
   "mimetype": "text/x-python",
   "name": "python",
   "nbconvert_exporter": "python",
   "pygments_lexer": "ipython3",
   "version": "3.10.1"
  },
  "orig_nbformat": 4
 },
 "nbformat": 4,
 "nbformat_minor": 2
}
