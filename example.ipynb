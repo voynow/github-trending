{
 "cells": [
  {
   "cell_type": "code",
   "execution_count": 5,
   "metadata": {},
   "outputs": [],
   "source": [
    "from llm_blocks import chat_utils\n",
    "from git2vec import loader\n",
    "from IPython.display import display, Markdown"
   ]
  },
  {
   "cell_type": "code",
   "execution_count": 2,
   "metadata": {},
   "outputs": [],
   "source": [
    "repo_url = \"https://github.com/voynow/turbo-docs\"\n",
    "raw_repo_str = loader.load(repo_url, return_str=True)\n",
    "\n",
    "template = \"\"\"\n",
    "Given the following code from {repo_url}:\n",
    "{raw_repo_str}\n",
    "\n",
    "Can you create a readme file for this repo? Requirements:\n",
    "- Must be a markdown file\n",
    "- Include detialed instillation and quickstart instructions\n",
    "- List some ideas for contributions\n",
    "\"\"\""
   ]
  },
  {
   "cell_type": "code",
   "execution_count": 3,
   "metadata": {},
   "outputs": [],
   "source": [
    "readme_chain = chat_utils.GenericChain(template=template)\n",
    "resp = readme_chain(repo_url=repo_url, raw_repo_str=raw_repo_str)"
   ]
  },
  {
   "cell_type": "code",
   "execution_count": 6,
   "metadata": {},
   "outputs": [
    {
     "data": {
      "text/markdown": [
       "# Turbo Docs\n",
       "\n",
       "Turbo Docs is a Python script that utilizes OpenAI's GPT API to generate README.md files and docstrings for your Python projects automatically.\n",
       "\n",
       "## Installation\n",
       "\n",
       "To use Turbo Docs, you will need to have Python 3.6 or higher installed on your system. You can install Turbo Docs using pip:\n",
       "\n",
       "```bash\n",
       "pip install turbo_docs\n",
       "```\n",
       "\n",
       "## Quickstart\n",
       "\n",
       "To generate a README.md or docstrings for the current directory, you can run the `turbo_docs` command:\n",
       "\n",
       "```bash\n",
       "turbo_docs [--copy] [--readme] [--docstring]\n",
       "```\n",
       "\n",
       "You can use the optional flags:\n",
       "- `--copy`: Copy the directory text to clipboard.\n",
       "- `--readme`: Generate README.md file.\n",
       "- `--docstring`: Generate and insert docstrings for each function.\n",
       "\n",
       "## Customization\n",
       "\n",
       "You can modify the files and directories that are excluded from the documentation generation by editing the `exclude.toml` file in the root of the repository. \n",
       "\n",
       "Example syntax to exclude requirements files:\n",
       "\n",
       "```toml\n",
       "exclude = [\n",
       "  \"requirements.*\"\n",
       "]\n",
       "```\n",
       "\n",
       "## Contributing\n",
       "\n",
       "Contributions are always welcome! Here are some ideas for improvements or bug fixes:\n",
       "- Add support for other programming languages\n",
       "- Improve the accuracy of the generated docstrings\n",
       "- Add support for generating documentation for specific files or directories\n",
       "- Improve the error handling and reporting\n",
       "- Add support for generating documentation for non-Python files\n",
       "\n",
       "To contribute, please fork the repository and submit a pull request."
      ],
      "text/plain": [
       "<IPython.core.display.Markdown object>"
      ]
     },
     "metadata": {},
     "output_type": "display_data"
    }
   ],
   "source": [
    "display(Markdown(resp[\"text\"]))"
   ]
  }
 ],
 "metadata": {
  "kernelspec": {
   "display_name": "venv",
   "language": "python",
   "name": "python3"
  },
  "language_info": {
   "codemirror_mode": {
    "name": "ipython",
    "version": 3
   },
   "file_extension": ".py",
   "mimetype": "text/x-python",
   "name": "python",
   "nbconvert_exporter": "python",
   "pygments_lexer": "ipython3",
   "version": "3.10.1"
  },
  "orig_nbformat": 4
 },
 "nbformat": 4,
 "nbformat_minor": 2
}
