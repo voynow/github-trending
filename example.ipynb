{
 "cells": [
  {
   "cell_type": "code",
   "execution_count": 1,
   "metadata": {},
   "outputs": [
    {
     "name": "stderr",
     "output_type": "stream",
     "text": [
      "c:\\Users\\voyno\\Desktop\\code\\repos\\repo-chat\\venv\\lib\\site-packages\\pinecone\\index.py:4: TqdmExperimentalWarning: Using `tqdm.autonotebook.tqdm` in notebook mode. Use `tqdm.tqdm` instead to force console mode (e.g. in jupyter console)\n",
      "  from tqdm.autonotebook import tqdm\n"
     ]
    }
   ],
   "source": [
    "import repo_chat.git2vectors as git2vectors\n",
    "from repo_chat.chat_utils import RetrievalChain\n",
    "from IPython.display import Markdown\n",
    "import pandas as pd\n",
    "import json"
   ]
  },
  {
   "cell_type": "code",
   "execution_count": 2,
   "metadata": {},
   "outputs": [],
   "source": [
    "# Create vectorstore, this will take a while\n",
    "repo = \"https://github.com/smol-ai/developer\"\n",
    "git2vectors.create_vectorstore(repo)\n",
    "\n",
    "# load vectorstore, this is fast\n",
    "vectorstore = git2vectors.get_vectorstore()"
   ]
  },
  {
   "cell_type": "code",
   "execution_count": 3,
   "metadata": {},
   "outputs": [
    {
     "data": {
      "text/markdown": [
       "This github repository contains a prototype for a \"junior developer\" agent that scaffolds an entire codebase based on a product spec. It is designed to be helpful, harmless, and honest, with a codebase that is simple, safe, and small. The program uses prompts to generate code, and the user can manually run and identify errors, or paste the error into the prompt to file a github issue. The program is a Chrome extension that summarizes web pages using the Anthropic Claude API, and uses a combination of JavaScript, HTML, and CSS to provide a user-friendly interface. The repository also includes a video demo and an architecture diagram."
      ],
      "text/plain": [
       "<IPython.core.display.Markdown object>"
      ]
     },
     "execution_count": 3,
     "metadata": {},
     "output_type": "execute_result"
    }
   ],
   "source": [
    "# Create an instance of the class\n",
    "chain = RetrievalChain(vectorstore, repo)\n",
    "\n",
    "# Let's say we have a query\n",
    "query = \"Explain this to me like I\\'m 5.\"\n",
    "\n",
    "# generic retrieval query\n",
    "response = chain.chat(query)\n",
    "Markdown(response['text'])"
   ]
  }
 ],
 "metadata": {
  "kernelspec": {
   "display_name": "venv",
   "language": "python",
   "name": "python3"
  },
  "language_info": {
   "codemirror_mode": {
    "name": "ipython",
    "version": 3
   },
   "file_extension": ".py",
   "mimetype": "text/x-python",
   "name": "python",
   "nbconvert_exporter": "python",
   "pygments_lexer": "ipython3",
   "version": "3.10.1"
  },
  "orig_nbformat": 4
 },
 "nbformat": 4,
 "nbformat_minor": 2
}
