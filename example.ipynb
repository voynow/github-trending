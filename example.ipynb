{
 "cells": [
  {
   "cell_type": "code",
   "execution_count": 1,
   "metadata": {},
   "outputs": [
    {
     "name": "stderr",
     "output_type": "stream",
     "text": [
      "c:\\Users\\voyno\\Desktop\\code\\repos\\repo-chat\\venv\\lib\\site-packages\\pinecone\\index.py:4: TqdmExperimentalWarning: Using `tqdm.autonotebook.tqdm` in notebook mode. Use `tqdm.tqdm` instead to force console mode (e.g. in jupyter console)\n",
      "  from tqdm.autonotebook import tqdm\n"
     ]
    }
   ],
   "source": [
    "import repo_chat.git2vectors as git2vectors\n",
    "from repo_chat.chat_utils import RetrievalChain"
   ]
  },
  {
   "cell_type": "code",
   "execution_count": 2,
   "metadata": {},
   "outputs": [],
   "source": [
    "# Create vectorstore, this will take a while\n",
    "repo = \"https://github.com/smol-ai/developer\"\n",
    "git2vectors.create_vectorstore(repo)\n",
    "\n",
    "# load vectorstore, this is fas\n",
    "vectorstore = git2vectors.get_vectorstore()"
   ]
  },
  {
   "cell_type": "code",
   "execution_count": 3,
   "metadata": {},
   "outputs": [
    {
     "data": {
      "text/plain": [
       "'The library can be used with Python by following these steps: \\n1. Clone the repository using `git clone https://github.com/smol-ai/developer`.\\n2. Copy the `.example.env` file to `.env` and fill in your API keys.\\n3. Install the `modal-client` package by hitting up the Modal team to get an invite and login.\\n4. Run the project using Modal or without Modal by following the instructions in the repository.\\n5. Adapt the code on a fork if you want to use it on other infrastructures.\\n6. Open issues/PRs if needed. \\n\\nThe library uses AI to scaffold an entire codebase out for you once you give it a product spec. It is a prototype of a \"junior developer\" agent that is helpful, harmless, and honest. The codebase is simple, safe, and small, making it easy to understand and customize.'"
      ]
     },
     "execution_count": 3,
     "metadata": {},
     "output_type": "execute_result"
    }
   ],
   "source": [
    "# Create an instance of the class\n",
    "chain = RetrievalChain(vectorstore)\n",
    "\n",
    "# Let's say we have a query\n",
    "query = \"Give me the quickstart python code to use this library\"\n",
    "\n",
    "# generic retrieval query\n",
    "response = chain.chat(query)\n",
    "response['text']"
   ]
  }
 ],
 "metadata": {
  "kernelspec": {
   "display_name": "venv",
   "language": "python",
   "name": "python3"
  },
  "language_info": {
   "codemirror_mode": {
    "name": "ipython",
    "version": 3
   },
   "file_extension": ".py",
   "mimetype": "text/x-python",
   "name": "python",
   "nbconvert_exporter": "python",
   "pygments_lexer": "ipython3",
   "version": "3.10.1"
  },
  "orig_nbformat": 4
 },
 "nbformat": 4,
 "nbformat_minor": 2
}
