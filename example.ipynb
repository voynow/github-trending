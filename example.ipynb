{
 "cells": [
  {
   "cell_type": "code",
   "execution_count": 1,
   "metadata": {},
   "outputs": [
    {
     "name": "stderr",
     "output_type": "stream",
     "text": [
      "c:\\Users\\voyno\\Desktop\\code\\repos\\repo-chat\\venv\\lib\\site-packages\\pinecone\\index.py:4: TqdmExperimentalWarning: Using `tqdm.autonotebook.tqdm` in notebook mode. Use `tqdm.tqdm` instead to force console mode (e.g. in jupyter console)\n",
      "  from tqdm.autonotebook import tqdm\n"
     ]
    }
   ],
   "source": [
    "import repo_chat.git2vectors as git2vectors\n",
    "from repo_chat.chat_utils import RetrievalChain\n",
    "from IPython.display import Markdown"
   ]
  },
  {
   "cell_type": "code",
   "execution_count": 2,
   "metadata": {},
   "outputs": [],
   "source": [
    "# Create vectorstore, this will take a while\n",
    "repo = \"https://github.com/smol-ai/developer\"\n",
    "git2vectors.create_vectorstore(repo)\n",
    "\n",
    "# load vectorstore, this is fas\n",
    "vectorstore = git2vectors.get_vectorstore()"
   ]
  },
  {
   "cell_type": "code",
   "execution_count": 3,
   "metadata": {},
   "outputs": [
    {
     "data": {
      "text/markdown": [
       "## Practical Use Case for Code2Prompt Library\n",
       "\n",
       "The Code2Prompt library is a powerful tool for generating code based on natural language prompts. One practical use case for this library is in the development of Chrome extensions. With Code2Prompt, developers can generate a complete Chrome extension by simply providing a prompt that describes the desired functionality.\n",
       "\n",
       "To demonstrate this use case, we have provided an example Chrome extension in the `/generated` and `/exampleChromeExtension` folders. This extension was generated entirely from a prompt specified in `prompt.md`. The extension reads the current page, and offers a popup UI that has the page title+content and a textarea for a prompt (with a default value we specify). When the user hits submit, it sends the page title+content to the Anthropic Claude API along with the up to date prompt to summarize it. The user can modify that prompt and re-send the prompt+content to get another summary view of the content.\n",
       "\n",
       "To generate your own Chrome extension using Code2Prompt, simply run the following command:\n",
       "\n",
       "```bash\n",
       "modal run main.py --prompt \"a Chrome extension that, when clicked, opens a small window with a page where you can enter a prompt for reading the currently open page and generating some response from openai\"\n",
       "```\n",
       "\n",
       "After running this command, the generated directory will contain a complete Chrome extension that meets the specifications of the prompt.\n",
       "\n",
       "## Sample Prompt File\n",
       "\n",
       "To help developers get started with Code2Prompt, we have provided a sample prompt file in `prompt.md`. This file contains a prompt that generates the example Chrome extension described above. Developers can modify this prompt to generate Chrome extensions with different functionality.\n",
       "\n",
       "```md\n",
       "You are an AI developer who is trying to write a program that will generate code for the user based on their intent.\n",
       "\n",
       "When given their intent, create a complete, exhaustive list of filepaths that the user would write to make the program.\n",
       "\n",
       "Only list the filepaths you would write, and return them as a python list of strings. Do not add any other explanation, only return a python list of strings.\n",
       "\n",
       "A Chrome extension that, when clicked, opens a small window with a page where you can enter a prompt for reading the currently open page and generating some response from openai.\n",
       "```\n",
       "\n",
       "By modifying this prompt, developers can generate Chrome extensions with different functionality.\n",
       "\n",
       "## Future Directions\n",
       "\n",
       "Code2Prompt is a powerful tool with many potential use cases. Some future directions for this library include:\n",
       "\n",
       "- Specifying .md files for each generated file, with further prompts that could finetune the output in each of them.\n",
       "- Bootstrapping the `prompt.md` for existing codebases - write a script to read in a codebase and write a descriptive, bullet pointed prompt that generates it.\n",
       "- Ability to install its own dependencies.\n",
       "- Self-healing by running the code itself and use errors as information for reprompting.\n",
       "- Using Anthropic as the coding layer.\n",
       "- Making agents that autonomously run this code in a loop/watch the prompt file and regenerate code each time, on a new git branch."
      ],
      "text/plain": [
       "<IPython.core.display.Markdown object>"
      ]
     },
     "execution_count": 3,
     "metadata": {},
     "output_type": "execute_result"
    }
   ],
   "source": [
    "# Create an instance of the class\n",
    "chain = RetrievalChain(vectorstore)\n",
    "\n",
    "# Let's say we have a query\n",
    "query = \"Give me a cool use case for this library - create the prompt file to generate this use case.\"\n",
    "\n",
    "# generic retrieval query\n",
    "response = chain.chat(query)\n",
    "Markdown(response['text'])"
   ]
  }
 ],
 "metadata": {
  "kernelspec": {
   "display_name": "venv",
   "language": "python",
   "name": "python3"
  },
  "language_info": {
   "codemirror_mode": {
    "name": "ipython",
    "version": 3
   },
   "file_extension": ".py",
   "mimetype": "text/x-python",
   "name": "python",
   "nbconvert_exporter": "python",
   "pygments_lexer": "ipython3",
   "version": "3.10.1"
  },
  "orig_nbformat": 4
 },
 "nbformat": 4,
 "nbformat_minor": 2
}
