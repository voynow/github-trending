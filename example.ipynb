{
 "cells": [
  {
   "cell_type": "code",
   "execution_count": 1,
   "metadata": {},
   "outputs": [
    {
     "name": "stderr",
     "output_type": "stream",
     "text": [
      "c:\\Users\\voyno\\Desktop\\code\\repos\\repo-chat\\venv\\lib\\site-packages\\pinecone\\index.py:4: TqdmExperimentalWarning: Using `tqdm.autonotebook.tqdm` in notebook mode. Use `tqdm.tqdm` instead to force console mode (e.g. in jupyter console)\n",
      "  from tqdm.autonotebook import tqdm\n"
     ]
    }
   ],
   "source": [
    "import repo_chat.git2vectors as git2vectors\n",
    "from repo_chat.chat_utils import RetrievalChain\n",
    "from IPython.display import Markdown, display"
   ]
  },
  {
   "cell_type": "code",
   "execution_count": 2,
   "metadata": {},
   "outputs": [],
   "source": [
    "# Create vectorstore, this will take a while\n",
    "repo = \"https://github.com/smol-ai/developer\"\n",
    "git2vectors.create_vectorstore(repo)\n",
    "\n",
    "# load vectorstore, this is fas\n",
    "vectorstore = git2vectors.get_vectorstore()"
   ]
  },
  {
   "cell_type": "code",
   "execution_count": 4,
   "metadata": {},
   "outputs": [
    {
     "data": {
      "text/markdown": [
       "## Cool Use Case for Smol Developer Library\n",
       "\n",
       "The Smol Developer library is a prototype of a \"junior developer\" agent that scaffolds an entire codebase out for you once you give it a product spec. Here are some cool use cases for this library:\n",
       "\n",
       "- **Create-Anything-App:** Instead of making and maintaining specific, rigid, one-shot starters like `create-react-app` or `create-nextjs-app`, Smol Developer is basically `create-anything-app` where you develop your scaffolding prompt in a tight loop with your Smol Developer. This allows you to create any type of application you want without being limited by pre-existing templates.\n",
       "\n",
       "- **Human-Centric Workflow:** Smol Developer is designed to be human-centric and coherent, allowing you to write a basic prompt for the app you want to build and then generate code using `main.py`. You can then manually run the code and identify errors, paste the error into the prompt, and loop until happiness is attained. This workflow allows you to use AI as long as it is adding value, but take over the codebase from your Smol Developer when it gets in your way.\n",
       "\n",
       "- **Self-Healing Code:** Smol Developer has the ability to self-heal by running the code itself and using errors as information for reprompting. This allows you to identify and fix errors in your code without having to manually search for them.\n",
       "\n",
       "- **Autonomous Code Generation:** You can make agents that autonomously run this code in a loop and regenerate code each time on a new git branch. This allows you to generate code on multiple branches simultaneously and check their output by switching git branches.\n",
       "\n",
       "Overall, Smol Developer is a powerful tool for developers who want to create custom applications quickly and efficiently. Its human-centric workflow and self-healing code capabilities make it a valuable addition to any developer's toolkit."
      ],
      "text/plain": [
       "<IPython.core.display.Markdown object>"
      ]
     },
     "execution_count": 4,
     "metadata": {},
     "output_type": "execute_result"
    }
   ],
   "source": [
    "# Create an instance of the class\n",
    "chain = RetrievalChain(vectorstore)\n",
    "\n",
    "# Let's say we have a query\n",
    "query = \"Give me a cool use case for this library\"\n",
    "\n",
    "# generic retrieval query\n",
    "response = chain.chat(query)\n",
    "Markdown(response['text'])"
   ]
  }
 ],
 "metadata": {
  "kernelspec": {
   "display_name": "venv",
   "language": "python",
   "name": "python3"
  },
  "language_info": {
   "codemirror_mode": {
    "name": "ipython",
    "version": 3
   },
   "file_extension": ".py",
   "mimetype": "text/x-python",
   "name": "python",
   "nbconvert_exporter": "python",
   "pygments_lexer": "ipython3",
   "version": "3.10.1"
  },
  "orig_nbformat": 4
 },
 "nbformat": 4,
 "nbformat_minor": 2
}
