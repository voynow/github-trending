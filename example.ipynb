{
 "cells": [
  {
   "cell_type": "code",
   "execution_count": 1,
   "metadata": {},
   "outputs": [],
   "source": [
    "from llm_blocks import chat_utils"
   ]
  },
  {
   "cell_type": "code",
   "execution_count": 2,
   "metadata": {},
   "outputs": [],
   "source": [
    "template = \"\"\"\n",
    "Let's brainstorm some ideas for a new software project.\n",
    "I really like working with {language} and {framework} and I'm interested in learning more about {concept}.\n",
    "What are some ideas given these constraints? Give me 3 really good ones.\n",
    "\"\"\""
   ]
  },
  {
   "cell_type": "code",
   "execution_count": 3,
   "metadata": {},
   "outputs": [
    {
     "name": "stdout",
     "output_type": "stream",
     "text": [
      "1. AI-powered Code Review Assistant: Develop a software tool that uses OpenAI's language model, LLMops, to analyze and review code written in Python. This tool could provide suggestions for improving code quality, identifying potential bugs, and enforcing best practices. It would be a valuable resource for developers to enhance their coding skills and ensure the quality of their projects.\n",
      "\n",
      "2. Intelligent Document Summarizer: Create a Python-based software that leverages LLMops to summarize lengthy documents, research papers, or articles. The software would use natural language processing techniques to extract key information and generate concise summaries, saving users time and effort in reading and understanding complex texts. It could also provide options for customizable summaries based on specific requirements.\n",
      "\n",
      "3. AI-driven Personal Assistant: Build a virtual personal assistant using Python and OpenAI's LLMops. This assistant would be capable of understanding and responding to natural language queries, performing tasks like scheduling appointments, setting reminders, answering general knowledge questions, and even providing personalized recommendations based on user preferences. The assistant could continuously learn and improve its responses using LLMops, making it a valuable and intelligent companion for users.\n"
     ]
    }
   ],
   "source": [
    "test_chain = chat_utils.GenericChain(template=template)\n",
    "response = test_chain(\"python\", \"openai\", \"LLMops\")\n",
    "print(response)"
   ]
  },
  {
   "cell_type": "code",
   "execution_count": 7,
   "metadata": {},
   "outputs": [
    {
     "data": {
      "text/markdown": [
       "1. AI-powered Code Review Assistant: Develop a software tool that uses OpenAI's language model, LLMops, to assist developers in reviewing their code. The tool can analyze code syntax, provide suggestions for optimization, identify potential bugs, and offer best practices. This would greatly enhance the efficiency and accuracy of code reviews, helping developers improve their coding skills.\n",
       "\n",
       "2. Intelligent Document Summarizer: Create a Python-based software that utilizes LLMops to summarize lengthy documents, research papers, or articles. The software can extract key information, generate concise summaries, and highlight important points. This would be a valuable tool for researchers, students, and professionals who need to quickly grasp the main ideas from extensive written materials.\n",
       "\n",
       "3. Virtual Personal Assistant: Develop a virtual assistant application using Python and OpenAI's LLMops. This assistant can understand natural language queries, perform tasks like scheduling appointments, setting reminders, answering questions, and even engage in casual conversations. By leveraging LLMops, the assistant can continuously improve its understanding and responses, providing a more personalized and efficient user experience."
      ],
      "text/plain": [
       "<IPython.core.display.Markdown object>"
      ]
     },
     "metadata": {},
     "output_type": "display_data"
    }
   ],
   "source": [
    "test_chain = chat_utils.GenericChain(template=template, stream=True)\n",
    "stream = test_chain(\"python\", \"openai\", \"LLMops\")\n",
    "chat_utils.display_ipynb(stream)"
   ]
  },
  {
   "cell_type": "code",
   "execution_count": null,
   "metadata": {},
   "outputs": [],
   "source": []
  }
 ],
 "metadata": {
  "kernelspec": {
   "display_name": "venv",
   "language": "python",
   "name": "python3"
  },
  "language_info": {
   "codemirror_mode": {
    "name": "ipython",
    "version": 3
   },
   "file_extension": ".py",
   "mimetype": "text/x-python",
   "name": "python",
   "nbconvert_exporter": "python",
   "pygments_lexer": "ipython3",
   "version": "3.10.1"
  },
  "orig_nbformat": 4
 },
 "nbformat": 4,
 "nbformat_minor": 2
}
