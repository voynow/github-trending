{
 "cells": [
  {
   "cell_type": "code",
   "execution_count": 1,
   "metadata": {},
   "outputs": [
    {
     "name": "stderr",
     "output_type": "stream",
     "text": [
      "c:\\Users\\voyno\\Desktop\\code\\repos\\repo-chat\\venv\\lib\\site-packages\\pinecone\\index.py:4: TqdmExperimentalWarning: Using `tqdm.autonotebook.tqdm` in notebook mode. Use `tqdm.tqdm` instead to force console mode (e.g. in jupyter console)\n",
      "  from tqdm.autonotebook import tqdm\n"
     ]
    }
   ],
   "source": [
    "import rag_utils"
   ]
  },
  {
   "cell_type": "code",
   "execution_count": 2,
   "metadata": {},
   "outputs": [
    {
     "name": "stdout",
     "output_type": "stream",
     "text": [
      "Fetching data from git repo...\n",
      "Clearing index testindex from previous runs...\n"
     ]
    },
    {
     "data": {
      "application/vnd.jupyter.widget-view+json": {
       "model_id": "8b8a8690e2fa49bfa41bd32c408cf4d9",
       "version_major": 2,
       "version_minor": 0
      },
      "text/plain": [
       "  0%|          | 0/1142 [00:00<?, ?it/s]"
      ]
     },
     "metadata": {},
     "output_type": "display_data"
    },
    {
     "name": "stdout",
     "output_type": "stream",
     "text": [
      "Done!\n",
      "{'dimension': 1536,\n",
      " 'index_fullness': 0.1,\n",
      " 'namespaces': {'': {'vector_count': 4196}},\n",
      " 'total_vector_count': 4196}\n"
     ]
    }
   ],
   "source": [
    "repo = \"https://github.com/hwchase17/langchain\"\n",
    "vectorstore = rag_utils.create_vectorstore(repo)\n",
    "qa = rag_utils.get_retrieval_chain(vectorstore)"
   ]
  },
  {
   "cell_type": "code",
   "execution_count": 24,
   "metadata": {},
   "outputs": [],
   "source": [
    "query = \"How can I use this code?\"\n",
    "\n",
    "similarity_resp = vectorstore.similarity_search_with_score(\n",
    "    query, k=5\n",
    ")\n",
    "response = qa.run(query)"
   ]
  },
  {
   "cell_type": "code",
   "execution_count": 25,
   "metadata": {},
   "outputs": [
    {
     "name": "stdout",
     "output_type": "stream",
     "text": [
      "\n",
      "Query:\n",
      "How can I use this code?\n",
      "\n",
      "Response:\n",
      "I'm not sure which code you are referring to. Can you please provide more context or specify which code you are asking about?\n",
      "\n",
      "Similarity Response (Score: 0.78)\n",
      "5. Ask questions: Define a list of questions to ask about the codebase, and then use the Conversatio\n",
      "\n",
      "Similarity Response (Score: 0.77)\n",
      "Around this time, in the spring of 2000, I had an idea. It was clear from our experience with Viaweb\n",
      "\n",
      "Similarity Response (Score: 0.76)\n",
      "chain.run(\"some initial text\")\n",
      "```\n",
      "\n",
      "See the [Quick Start](https://graphsignal.com/docs/guides/qui\n",
      "\n",
      "Similarity Response (Score: 0.76)\n",
      "** helppage|help-mediawiki\n",
      "* SEARCH\n",
      "* TOOLBOX</text>\n",
      "      <sha1>qqsu3aocmn2qji3pfn56y3pizazd8jv<\n",
      "\n",
      "Similarity Response (Score: 0.76)\n",
      "<html>\n",
      "  <head>\n",
      "    <title>Chew dad's slippers</title>\n",
      "  </head>\n",
      "  <body>\n",
      "    <h1>\n",
      "      Inste\n"
     ]
    }
   ],
   "source": [
    "print(f\"\\nQuery:\\n{query}\")\n",
    "print(f\"\\nResponse:\\n{response}\")\n",
    "for doc, score in similarity_resp:\n",
    "    print(f\"\\nSimilarity Response (Score: {score:.2f})\\n{doc.page_content[:100]}\")"
   ]
  },
  {
   "cell_type": "code",
   "execution_count": null,
   "metadata": {},
   "outputs": [],
   "source": []
  }
 ],
 "metadata": {
  "kernelspec": {
   "display_name": "venv",
   "language": "python",
   "name": "python3"
  },
  "language_info": {
   "codemirror_mode": {
    "name": "ipython",
    "version": 3
   },
   "file_extension": ".py",
   "mimetype": "text/x-python",
   "name": "python",
   "nbconvert_exporter": "python",
   "pygments_lexer": "ipython3",
   "version": "3.10.1"
  },
  "orig_nbformat": 4
 },
 "nbformat": 4,
 "nbformat_minor": 2
}
