{
 "cells": [
  {
   "cell_type": "code",
   "execution_count": 1,
   "metadata": {},
   "outputs": [
    {
     "name": "stderr",
     "output_type": "stream",
     "text": [
      "c:\\Users\\voyno\\Desktop\\code\\repos\\repo-chat\\venv\\lib\\site-packages\\pinecone\\index.py:4: TqdmExperimentalWarning: Using `tqdm.autonotebook.tqdm` in notebook mode. Use `tqdm.tqdm` instead to force console mode (e.g. in jupyter console)\n",
      "  from tqdm.autonotebook import tqdm\n"
     ]
    }
   ],
   "source": [
    "import git2vectors\n",
    "import chat_utils"
   ]
  },
  {
   "cell_type": "code",
   "execution_count": 2,
   "metadata": {},
   "outputs": [
    {
     "name": "stdout",
     "output_type": "stream",
     "text": [
      "Fetching data from git repo...\n",
      "Clearing index testindex from previous runs...\n",
      "Done!\n",
      "\n",
      "describe_index_stats:\n",
      "{'dimension': 1536,\n",
      " 'index_fullness': 0.0,\n",
      " 'namespaces': {'': {'vector_count': 74}},\n",
      " 'total_vector_count': 74}\n"
     ]
    }
   ],
   "source": [
    "repo = \"https://github.com/smol-ai/developer\"\n",
    "vectorstore = git2vectors.create_vectorstore(repo)"
   ]
  },
  {
   "cell_type": "code",
   "execution_count": 5,
   "metadata": {},
   "outputs": [
    {
     "name": "stdout",
     "output_type": "stream",
     "text": [
      "Smol-ai is a prototype of a \"junior developer\" agent that scaffolds an entire codebase out for you once you give it a product spec. Its purpose is to help developers create code scaffolding prompts in a tight loop with the smol dev. The demo example in `prompt.md` shows the potential of AI-enabled, but still firmly human developer-centric workflow. An example of its usage is running `modal run main.py --prompt \"a Chrome extension that, when clicked, opens a small window with a page where you can enter a prompt for reading the currently open page and generating some response from openai\"`.\n",
      "Tokens Used: 1728\n",
      "\tPrompt Tokens: 1600\n",
      "\tCompletion Tokens: 128\n",
      "Successful Requests: 1\n",
      "Total Cost (USD): $0.0034560000000000003\n"
     ]
    }
   ],
   "source": [
    "Q = \"What is this repo? What is smol-ai? Give an example.\"\n",
    "chat_utils.chat(git2vectors.OPENAI_API_KEY, Q, vectorstore)"
   ]
  }
 ],
 "metadata": {
  "kernelspec": {
   "display_name": "venv",
   "language": "python",
   "name": "python3"
  },
  "language_info": {
   "codemirror_mode": {
    "name": "ipython",
    "version": 3
   },
   "file_extension": ".py",
   "mimetype": "text/x-python",
   "name": "python",
   "nbconvert_exporter": "python",
   "pygments_lexer": "ipython3",
   "version": "3.10.1"
  },
  "orig_nbformat": 4
 },
 "nbformat": 4,
 "nbformat_minor": 2
}
