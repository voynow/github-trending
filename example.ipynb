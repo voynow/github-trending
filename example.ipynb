{
 "cells": [
  {
   "cell_type": "code",
   "execution_count": 6,
   "metadata": {},
   "outputs": [],
   "source": [
    "from git2vec import vectordb, loader\n",
    "from repo_chat.chat_utils import RetrievalChain, RawChain\n",
    "from IPython.display import Markdown"
   ]
  },
  {
   "cell_type": "code",
   "execution_count": 2,
   "metadata": {},
   "outputs": [],
   "source": [
    "# Create vectorstore, this will take a while\n",
    "repo_name = \"https://github.com/smol-ai/developer\"\n",
    "vectordb.create_vectorstore(repo_name)\n",
    "\n",
    "# load vectorstore, this is fast\n",
    "vectorstore = vectordb.get_vectorstore()"
   ]
  },
  {
   "cell_type": "code",
   "execution_count": 3,
   "metadata": {},
   "outputs": [
    {
     "data": {
      "text/markdown": [
       "This github repository contains a prototype for a \"junior developer\" agent that scaffolds an entire codebase based on a product spec. It is designed to be helpful, harmless, and honest, with a codebase that is simple, safe, and small. The program uses prompts to generate code, and the user can manually run and identify errors, or paste the error into the prompt to file a github issue. The program is a Chrome extension that summarizes web pages using the Anthropic Claude API, and uses a combination of JavaScript, HTML, and CSS to provide a user-friendly interface. The repository also includes a video demo and an architecture diagram."
      ],
      "text/plain": [
       "<IPython.core.display.Markdown object>"
      ]
     },
     "execution_count": 3,
     "metadata": {},
     "output_type": "execute_result"
    }
   ],
   "source": [
    "# Create an instance of the class\n",
    "chain = RetrievalChain(vectorstore, repo_name)\n",
    "\n",
    "# Let's say we have a query\n",
    "query = \"Explain this to me like I\\'m 5.\"\n",
    "\n",
    "# generic retrieval query\n",
    "response = chain.chat(query)\n",
    "Markdown(response['text'])"
   ]
  },
  {
   "cell_type": "code",
   "execution_count": 8,
   "metadata": {},
   "outputs": [],
   "source": [
    "# or load the repo data in its entirety\n",
    "repo_name = \"https://github.com/voynow/git2vec\"\n",
    "raw_repo = loader.load(repo_name, return_str=True)"
   ]
  },
  {
   "cell_type": "code",
   "execution_count": 9,
   "metadata": {},
   "outputs": [
    {
     "data": {
      "text/markdown": [
       "This code is a Python package called \"git2vec\" that provides functionality for handling Git data. To use it, you can install it using pip:\n",
       "\n",
       "```\n",
       "pip install git2vec\n",
       "```\n",
       "\n",
       "Once installed, you can import the package and use its functions in your Python code. For example, to load a Git repository and create a vector database, you can do the following:\n",
       "\n",
       "```\n",
       "from git2vec import loader, vectordb\n",
       "\n",
       "repo_name = \"https://github.com/voynow/turbo-docs\"\n",
       "\n",
       "# Load the Git repository\n",
       "repo_data = loader.load(repo_name)\n",
       "\n",
       "# Create a vector database from the loaded data\n",
       "vectordb.create_vectorstore(repo_name)\n",
       "\n",
       "# Retrieve the vector database\n",
       "vectorstore = vectordb.get_vectorstore()\n",
       "\n",
       "# Use the vector database to search for similar documents\n",
       "results = vectorstore.search(\"query text\")\n",
       "```\n",
       "\n",
       "This is just an example, and there are many other functions and options available in the package. You can refer to the package documentation and source code for more information."
      ],
      "text/plain": [
       "<IPython.core.display.Markdown object>"
      ]
     },
     "execution_count": 9,
     "metadata": {},
     "output_type": "execute_result"
    }
   ],
   "source": [
    "# and pass the entire repo to a raw chain\n",
    "chain = RawChain(raw_repo)\n",
    "\n",
    "# and ask a question\n",
    "response = chain.chat(\"How do I use this?\")\n",
    "Markdown(response['text'])"
   ]
  },
  {
   "cell_type": "code",
   "execution_count": null,
   "metadata": {},
   "outputs": [],
   "source": []
  }
 ],
 "metadata": {
  "kernelspec": {
   "display_name": "venv",
   "language": "python",
   "name": "python3"
  },
  "language_info": {
   "codemirror_mode": {
    "name": "ipython",
    "version": 3
   },
   "file_extension": ".py",
   "mimetype": "text/x-python",
   "name": "python",
   "nbconvert_exporter": "python",
   "pygments_lexer": "ipython3",
   "version": "3.10.1"
  },
  "orig_nbformat": 4
 },
 "nbformat": 4,
 "nbformat_minor": 2
}
