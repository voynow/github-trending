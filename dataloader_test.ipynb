{
 "cells": [
  {
   "cell_type": "code",
   "execution_count": 3,
   "metadata": {},
   "outputs": [],
   "source": [
    "import langchain\n",
    "import custom_loaders"
   ]
  },
  {
   "cell_type": "code",
   "execution_count": 4,
   "metadata": {},
   "outputs": [
    {
     "name": "stdout",
     "output_type": "stream",
     "text": [
      "Length of data from dataloader: 937\n"
     ]
    }
   ],
   "source": [
    "loader = langchain.document_loaders.GitLoader(\n",
    "    clone_url=\"https://github.com/hwchase17/langchain\",\n",
    "    repo_path=\"./example_data/GitLoader/\",\n",
    "    branch=\"master\",\n",
    "    file_filter=lambda file_path: file_path.endswith(\".py\")\n",
    ")\n",
    "data = loader.load()\n",
    "print(f\"Length of data from dataloader: {len(data)}\")\n",
    "\n",
    "# Langchain default git loader takes 3 minutes to run"
   ]
  },
  {
   "cell_type": "code",
   "execution_count": 5,
   "metadata": {},
   "outputs": [
    {
     "name": "stdout",
     "output_type": "stream",
     "text": [
      "Length of data from dataloader: 937\n"
     ]
    }
   ],
   "source": [
    "# Slight modification of langchain default git loader\n",
    "loader = custom_loaders.FastGitLoader(\n",
    "    clone_url=\"https://github.com/hwchase17/langchain\",\n",
    "    repo_path=\"./example_data/FastGitLoader/\",\n",
    "    branch=\"master\",\n",
    "    file_filter=lambda file_path: file_path.endswith(\".py\")\n",
    ")\n",
    "data = loader.load()\n",
    "print(f\"Length of data from dataloader: {len(data)}\")\n",
    "\n",
    "# Custom FastGitLoader takes 2 minutes 10 seconds to run"
   ]
  },
  {
   "cell_type": "code",
   "execution_count": 8,
   "metadata": {},
   "outputs": [
    {
     "name": "stdout",
     "output_type": "stream",
     "text": [
      "Length of data from dataloader: 937\n"
     ]
    }
   ],
   "source": [
    "# complete rewrite of langchain git loader using parallelism\n",
    "loader = custom_loaders.TurboGitLoader(\n",
    "    clone_url=\"https://github.com/hwchase17/langchain\",\n",
    "    repo_path=\"./example_data/TurboGitLoader/\",\n",
    "    branch=\"master\",\n",
    "    file_filter=lambda file_path: file_path.endswith(\".py\")\n",
    ")\n",
    "data = loader.load()\n",
    "print(f\"Length of data from dataloader: {len(data)}\")\n",
    "\n",
    "# Custom TurboGitLoader takes 20 seconds to run!!!"
   ]
  },
  {
   "attachments": {},
   "cell_type": "markdown",
   "metadata": {},
   "source": [
    "### Takeaways\n",
    "- FastGitLoader ~30% improvement over Langchain \n",
    "- TurboGitLoader almost a 90% improvement over Langchain"
   ]
  },
  {
   "cell_type": "code",
   "execution_count": null,
   "metadata": {},
   "outputs": [],
   "source": []
  }
 ],
 "metadata": {
  "kernelspec": {
   "display_name": "venv",
   "language": "python",
   "name": "python3"
  },
  "language_info": {
   "codemirror_mode": {
    "name": "ipython",
    "version": 3
   },
   "file_extension": ".py",
   "mimetype": "text/x-python",
   "name": "python",
   "nbconvert_exporter": "python",
   "pygments_lexer": "ipython3",
   "version": "3.10.1"
  },
  "orig_nbformat": 4
 },
 "nbformat": 4,
 "nbformat_minor": 2
}
